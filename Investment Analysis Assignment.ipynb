{
 "cells": [
  {
   "cell_type": "code",
   "execution_count": 1,
   "metadata": {},
   "outputs": [],
   "source": [
    "#importing Required Python Libraries\n",
    "import pandas as pd\n",
    "import numpy as np\n",
    "import matplotlib.pyplot as plt\n",
    "import seaborn as sns"
   ]
  },
  {
   "cell_type": "code",
   "execution_count": 2,
   "metadata": {},
   "outputs": [],
   "source": [
    "# Reading the given CSV files\n",
    "companies=pd.read_csv(\"companies.csv\",encoding=\"latin1\")\n",
    "rounds2=pd.read_csv(\"rounds2.csv\",encoding=\"latin1\")"
   ]
  },
  {
   "cell_type": "markdown",
   "metadata": {},
   "source": [
    "# Checkpoint1: Data Cleaning 1"
   ]
  },
  {
   "cell_type": "code",
   "execution_count": 3,
   "metadata": {},
   "outputs": [
    {
     "data": {
      "text/plain": [
       "66370"
      ]
     },
     "execution_count": 3,
     "metadata": {},
     "output_type": "execute_result"
    }
   ],
   "source": [
    "#unique companies present in rounds2\n",
    "rounds2['company_permalink']=rounds2['company_permalink'].str.lower()\n",
    "rounds2.company_permalink.drop_duplicates().count()"
   ]
  },
  {
   "cell_type": "code",
   "execution_count": 4,
   "metadata": {},
   "outputs": [
    {
     "data": {
      "text/plain": [
       "count                       114949\n",
       "unique                       66370\n",
       "top       /organization/solarflare\n",
       "freq                            19\n",
       "Name: company_permalink, dtype: object"
      ]
     },
     "execution_count": 4,
     "metadata": {},
     "output_type": "execute_result"
    }
   ],
   "source": [
    "rounds2['company_permalink'].describe()"
   ]
  },
  {
   "cell_type": "code",
   "execution_count": 5,
   "metadata": {},
   "outputs": [
    {
     "data": {
      "text/plain": [
       "66368"
      ]
     },
     "execution_count": 5,
     "metadata": {},
     "output_type": "execute_result"
    }
   ],
   "source": [
    "#unique companies present in companies\n",
    "companies['permalink']=companies['permalink'].str.lower()\n",
    "companies['permalink'].drop_duplicates().count()"
   ]
  },
  {
   "cell_type": "code",
   "execution_count": 6,
   "metadata": {},
   "outputs": [
    {
     "data": {
      "text/html": [
       "<div>\n",
       "<style scoped>\n",
       "    .dataframe tbody tr th:only-of-type {\n",
       "        vertical-align: middle;\n",
       "    }\n",
       "\n",
       "    .dataframe tbody tr th {\n",
       "        vertical-align: top;\n",
       "    }\n",
       "\n",
       "    .dataframe thead th {\n",
       "        text-align: right;\n",
       "    }\n",
       "</style>\n",
       "<table border=\"1\" class=\"dataframe\">\n",
       "  <thead>\n",
       "    <tr style=\"text-align: right;\">\n",
       "      <th></th>\n",
       "      <th>company_permalink</th>\n",
       "      <th>funding_round_permalink</th>\n",
       "      <th>funding_round_type</th>\n",
       "      <th>funding_round_code</th>\n",
       "      <th>funded_at</th>\n",
       "      <th>raised_amount_usd</th>\n",
       "    </tr>\n",
       "  </thead>\n",
       "  <tbody>\n",
       "    <tr>\n",
       "      <th>29597</th>\n",
       "      <td>/organization/e-cãbica</td>\n",
       "      <td>/funding-round/8491f74869e4fe8ba9c378394f8fbdea</td>\n",
       "      <td>seed</td>\n",
       "      <td>NaN</td>\n",
       "      <td>01-02-2015</td>\n",
       "      <td>NaN</td>\n",
       "    </tr>\n",
       "    <tr>\n",
       "      <th>31863</th>\n",
       "      <td>/organization/energystone-games-çµç³æ¸¸æ</td>\n",
       "      <td>/funding-round/b89553f3d2279c5683ae93f45a21cfe0</td>\n",
       "      <td>seed</td>\n",
       "      <td>NaN</td>\n",
       "      <td>09-08-2014</td>\n",
       "      <td>NaN</td>\n",
       "    </tr>\n",
       "    <tr>\n",
       "      <th>45176</th>\n",
       "      <td>/organization/huizuche-com-æ ç§ÿè½¦</td>\n",
       "      <td>/funding-round/8f8a32dbeeb0f831a78702f83af78a36</td>\n",
       "      <td>seed</td>\n",
       "      <td>NaN</td>\n",
       "      <td>18-09-2014</td>\n",
       "      <td>NaN</td>\n",
       "    </tr>\n",
       "    <tr>\n",
       "      <th>58473</th>\n",
       "      <td>/organization/magnet-tech-ç£ç³ç§æ</td>\n",
       "      <td>/funding-round/8fc91fbb32bc95e97f151dd0cb4166bf</td>\n",
       "      <td>seed</td>\n",
       "      <td>NaN</td>\n",
       "      <td>16-08-2014</td>\n",
       "      <td>1625585.0</td>\n",
       "    </tr>\n",
       "    <tr>\n",
       "      <th>101036</th>\n",
       "      <td>/organization/tipcat-interactive-æ²èÿä¿¡æ¯ç...</td>\n",
       "      <td>/funding-round/41005928a1439cb2d706a43cb661f60f</td>\n",
       "      <td>seed</td>\n",
       "      <td>NaN</td>\n",
       "      <td>06-09-2010</td>\n",
       "      <td>NaN</td>\n",
       "    </tr>\n",
       "    <tr>\n",
       "      <th>109969</th>\n",
       "      <td>/organization/weiche-tech-åè½¦ç§æ</td>\n",
       "      <td>/funding-round/f74e457f838b81fa0b29649740f186d8</td>\n",
       "      <td>venture</td>\n",
       "      <td>A</td>\n",
       "      <td>06-09-2015</td>\n",
       "      <td>NaN</td>\n",
       "    </tr>\n",
       "    <tr>\n",
       "      <th>113839</th>\n",
       "      <td>/organization/zengame-ç¦",
       "æ¸¸ç§æ</td>\n",
       "      <td>/funding-round/6ba28fb4f3eadf5a9c6c81bc5dde6cdf</td>\n",
       "      <td>seed</td>\n",
       "      <td>NaN</td>\n",
       "      <td>17-07-2010</td>\n",
       "      <td>NaN</td>\n",
       "    </tr>\n",
       "  </tbody>\n",
       "</table>\n",
       "</div>"
      ],
      "text/plain": [
       "                                        company_permalink  \\\n",
       "29597                             /organization/e-cãbica   \n",
       "31863        /organization/energystone-games-çµç³æ¸¸æ   \n",
       "45176                /organization/huizuche-com-æ ç§ÿè½¦   \n",
       "58473              /organization/magnet-tech-ç£ç³ç§æ   \n",
       "101036  /organization/tipcat-interactive-æ²èÿä¿¡æ¯ç...   \n",
       "109969             /organization/weiche-tech-åè½¦ç§æ   \n",
       "113839                 /organization/zengame-ç¦\n",
       "æ¸¸ç§æ   \n",
       "\n",
       "                                funding_round_permalink funding_round_type  \\\n",
       "29597   /funding-round/8491f74869e4fe8ba9c378394f8fbdea               seed   \n",
       "31863   /funding-round/b89553f3d2279c5683ae93f45a21cfe0               seed   \n",
       "45176   /funding-round/8f8a32dbeeb0f831a78702f83af78a36               seed   \n",
       "58473   /funding-round/8fc91fbb32bc95e97f151dd0cb4166bf               seed   \n",
       "101036  /funding-round/41005928a1439cb2d706a43cb661f60f               seed   \n",
       "109969  /funding-round/f74e457f838b81fa0b29649740f186d8            venture   \n",
       "113839  /funding-round/6ba28fb4f3eadf5a9c6c81bc5dde6cdf               seed   \n",
       "\n",
       "       funding_round_code   funded_at  raised_amount_usd  \n",
       "29597                 NaN  01-02-2015                NaN  \n",
       "31863                 NaN  09-08-2014                NaN  \n",
       "45176                 NaN  18-09-2014                NaN  \n",
       "58473                 NaN  16-08-2014          1625585.0  \n",
       "101036                NaN  06-09-2010                NaN  \n",
       "109969                  A  06-09-2015                NaN  \n",
       "113839                NaN  17-07-2010                NaN  "
      ]
     },
     "execution_count": 6,
     "metadata": {},
     "output_type": "execute_result"
    }
   ],
   "source": [
    "#Are there any companies in the rounds2 file which are not present in companies\n",
    "rounds=rounds2[-(rounds2.company_permalink.isin(companies.permalink))]\n",
    "\n",
    "rounds"
   ]
  },
  {
   "cell_type": "markdown",
   "metadata": {},
   "source": [
    "#### As we can see above, rounds2 file has few companies, that are not present in companies"
   ]
  },
  {
   "cell_type": "code",
   "execution_count": 8,
   "metadata": {},
   "outputs": [],
   "source": [
    "## Merging Companies and rounds2 dataframes into master_frame\n",
    "master_frame=rounds2.merge(companies,left_on=\"company_permalink\",right_on=\"permalink\",how=\"left\").drop('permalink',axis=1)"
   ]
  },
  {
   "cell_type": "code",
   "execution_count": 9,
   "metadata": {},
   "outputs": [
    {
     "data": {
      "text/plain": [
       "(114949, 15)"
      ]
     },
     "execution_count": 9,
     "metadata": {},
     "output_type": "execute_result"
    }
   ],
   "source": [
    "master_frame.shape"
   ]
  },
  {
   "cell_type": "code",
   "execution_count": 10,
   "metadata": {},
   "outputs": [
    {
     "data": {
      "text/html": [
       "<div>\n",
       "<style scoped>\n",
       "    .dataframe tbody tr th:only-of-type {\n",
       "        vertical-align: middle;\n",
       "    }\n",
       "\n",
       "    .dataframe tbody tr th {\n",
       "        vertical-align: top;\n",
       "    }\n",
       "\n",
       "    .dataframe thead th {\n",
       "        text-align: right;\n",
       "    }\n",
       "</style>\n",
       "<table border=\"1\" class=\"dataframe\">\n",
       "  <thead>\n",
       "    <tr style=\"text-align: right;\">\n",
       "      <th></th>\n",
       "      <th>company_permalink</th>\n",
       "      <th>funding_round_permalink</th>\n",
       "      <th>funding_round_type</th>\n",
       "      <th>funding_round_code</th>\n",
       "      <th>funded_at</th>\n",
       "      <th>raised_amount_usd</th>\n",
       "      <th>name</th>\n",
       "      <th>homepage_url</th>\n",
       "      <th>category_list</th>\n",
       "      <th>status</th>\n",
       "      <th>country_code</th>\n",
       "      <th>state_code</th>\n",
       "      <th>region</th>\n",
       "      <th>city</th>\n",
       "      <th>founded_at</th>\n",
       "    </tr>\n",
       "  </thead>\n",
       "  <tbody>\n",
       "    <tr>\n",
       "      <th>0</th>\n",
       "      <td>/organization/-fame</td>\n",
       "      <td>/funding-round/9a01d05418af9f794eebff7ace91f638</td>\n",
       "      <td>venture</td>\n",
       "      <td>B</td>\n",
       "      <td>05-01-2015</td>\n",
       "      <td>10000000.0</td>\n",
       "      <td>#fame</td>\n",
       "      <td>http://livfame.com</td>\n",
       "      <td>Media</td>\n",
       "      <td>operating</td>\n",
       "      <td>IND</td>\n",
       "      <td>16</td>\n",
       "      <td>Mumbai</td>\n",
       "      <td>Mumbai</td>\n",
       "      <td>NaN</td>\n",
       "    </tr>\n",
       "    <tr>\n",
       "      <th>1</th>\n",
       "      <td>/organization/-qounter</td>\n",
       "      <td>/funding-round/22dacff496eb7acb2b901dec1dfe5633</td>\n",
       "      <td>venture</td>\n",
       "      <td>A</td>\n",
       "      <td>14-10-2014</td>\n",
       "      <td>NaN</td>\n",
       "      <td>:Qounter</td>\n",
       "      <td>http://www.qounter.com</td>\n",
       "      <td>Application Platforms|Real Time|Social Network...</td>\n",
       "      <td>operating</td>\n",
       "      <td>USA</td>\n",
       "      <td>DE</td>\n",
       "      <td>DE - Other</td>\n",
       "      <td>Delaware City</td>\n",
       "      <td>04-09-2014</td>\n",
       "    </tr>\n",
       "    <tr>\n",
       "      <th>2</th>\n",
       "      <td>/organization/-qounter</td>\n",
       "      <td>/funding-round/b44fbb94153f6cdef13083530bb48030</td>\n",
       "      <td>seed</td>\n",
       "      <td>NaN</td>\n",
       "      <td>01-03-2014</td>\n",
       "      <td>700000.0</td>\n",
       "      <td>:Qounter</td>\n",
       "      <td>http://www.qounter.com</td>\n",
       "      <td>Application Platforms|Real Time|Social Network...</td>\n",
       "      <td>operating</td>\n",
       "      <td>USA</td>\n",
       "      <td>DE</td>\n",
       "      <td>DE - Other</td>\n",
       "      <td>Delaware City</td>\n",
       "      <td>04-09-2014</td>\n",
       "    </tr>\n",
       "    <tr>\n",
       "      <th>3</th>\n",
       "      <td>/organization/-the-one-of-them-inc-</td>\n",
       "      <td>/funding-round/650b8f704416801069bb178a1418776b</td>\n",
       "      <td>venture</td>\n",
       "      <td>B</td>\n",
       "      <td>30-01-2014</td>\n",
       "      <td>3406878.0</td>\n",
       "      <td>(THE) ONE of THEM,Inc.</td>\n",
       "      <td>http://oneofthem.jp</td>\n",
       "      <td>Apps|Games|Mobile</td>\n",
       "      <td>operating</td>\n",
       "      <td>NaN</td>\n",
       "      <td>NaN</td>\n",
       "      <td>NaN</td>\n",
       "      <td>NaN</td>\n",
       "      <td>NaN</td>\n",
       "    </tr>\n",
       "    <tr>\n",
       "      <th>4</th>\n",
       "      <td>/organization/0-6-com</td>\n",
       "      <td>/funding-round/5727accaeaa57461bd22a9bdd945382d</td>\n",
       "      <td>venture</td>\n",
       "      <td>A</td>\n",
       "      <td>19-03-2008</td>\n",
       "      <td>2000000.0</td>\n",
       "      <td>0-6.com</td>\n",
       "      <td>http://www.0-6.com</td>\n",
       "      <td>Curated Web</td>\n",
       "      <td>operating</td>\n",
       "      <td>CHN</td>\n",
       "      <td>22</td>\n",
       "      <td>Beijing</td>\n",
       "      <td>Beijing</td>\n",
       "      <td>01-01-2007</td>\n",
       "    </tr>\n",
       "  </tbody>\n",
       "</table>\n",
       "</div>"
      ],
      "text/plain": [
       "                     company_permalink  \\\n",
       "0                  /organization/-fame   \n",
       "1               /organization/-qounter   \n",
       "2               /organization/-qounter   \n",
       "3  /organization/-the-one-of-them-inc-   \n",
       "4                /organization/0-6-com   \n",
       "\n",
       "                           funding_round_permalink funding_round_type  \\\n",
       "0  /funding-round/9a01d05418af9f794eebff7ace91f638            venture   \n",
       "1  /funding-round/22dacff496eb7acb2b901dec1dfe5633            venture   \n",
       "2  /funding-round/b44fbb94153f6cdef13083530bb48030               seed   \n",
       "3  /funding-round/650b8f704416801069bb178a1418776b            venture   \n",
       "4  /funding-round/5727accaeaa57461bd22a9bdd945382d            venture   \n",
       "\n",
       "  funding_round_code   funded_at  raised_amount_usd                    name  \\\n",
       "0                  B  05-01-2015         10000000.0                   #fame   \n",
       "1                  A  14-10-2014                NaN                :Qounter   \n",
       "2                NaN  01-03-2014           700000.0                :Qounter   \n",
       "3                  B  30-01-2014          3406878.0  (THE) ONE of THEM,Inc.   \n",
       "4                  A  19-03-2008          2000000.0                 0-6.com   \n",
       "\n",
       "             homepage_url                                      category_list  \\\n",
       "0      http://livfame.com                                              Media   \n",
       "1  http://www.qounter.com  Application Platforms|Real Time|Social Network...   \n",
       "2  http://www.qounter.com  Application Platforms|Real Time|Social Network...   \n",
       "3     http://oneofthem.jp                                  Apps|Games|Mobile   \n",
       "4      http://www.0-6.com                                        Curated Web   \n",
       "\n",
       "      status country_code state_code      region           city  founded_at  \n",
       "0  operating          IND         16      Mumbai         Mumbai         NaN  \n",
       "1  operating          USA         DE  DE - Other  Delaware City  04-09-2014  \n",
       "2  operating          USA         DE  DE - Other  Delaware City  04-09-2014  \n",
       "3  operating          NaN        NaN         NaN            NaN         NaN  \n",
       "4  operating          CHN         22     Beijing        Beijing  01-01-2007  "
      ]
     },
     "execution_count": 10,
     "metadata": {},
     "output_type": "execute_result"
    }
   ],
   "source": [
    "master_frame.head()"
   ]
  },
  {
   "cell_type": "markdown",
   "metadata": {},
   "source": [
    "### DataCleaning"
   ]
  },
  {
   "cell_type": "code",
   "execution_count": 11,
   "metadata": {},
   "outputs": [
    {
     "data": {
      "text/plain": [
       "company_permalink              0\n",
       "funding_round_permalink        0\n",
       "funding_round_type             0\n",
       "funding_round_code         83809\n",
       "funded_at                      0\n",
       "raised_amount_usd          19990\n",
       "name                           8\n",
       "homepage_url                6139\n",
       "category_list               3414\n",
       "status                         7\n",
       "country_code                8678\n",
       "state_code                 10946\n",
       "region                     10167\n",
       "city                       10164\n",
       "founded_at                 20527\n",
       "dtype: int64"
      ]
     },
     "execution_count": 11,
     "metadata": {},
     "output_type": "execute_result"
    }
   ],
   "source": [
    "master_frame.isnull().sum()"
   ]
  },
  {
   "cell_type": "code",
   "execution_count": 12,
   "metadata": {},
   "outputs": [
    {
     "data": {
      "text/plain": [
       "company_permalink           0.00\n",
       "funding_round_permalink     0.00\n",
       "funding_round_type          0.00\n",
       "funding_round_code         72.91\n",
       "funded_at                   0.00\n",
       "raised_amount_usd          17.39\n",
       "name                        0.01\n",
       "homepage_url                5.34\n",
       "category_list               2.97\n",
       "status                      0.01\n",
       "country_code                7.55\n",
       "state_code                  9.52\n",
       "region                      8.84\n",
       "city                        8.84\n",
       "founded_at                 17.86\n",
       "dtype: float64"
      ]
     },
     "execution_count": 12,
     "metadata": {},
     "output_type": "execute_result"
    }
   ],
   "source": [
    "#calculate percentage of missing values column wise\n",
    "round(100*(master_frame.isnull().sum()/len(master_frame.index)), 2)"
   ]
  },
  {
   "cell_type": "code",
   "execution_count": 13,
   "metadata": {},
   "outputs": [],
   "source": [
    "#Removing Null values for raised_amount_usd column as it is holding 17.39%\n",
    "master_frame=master_frame[-master_frame.raised_amount_usd.isnull()]"
   ]
  },
  {
   "cell_type": "code",
   "execution_count": 14,
   "metadata": {},
   "outputs": [
    {
     "data": {
      "text/plain": [
       "0"
      ]
     },
     "execution_count": 14,
     "metadata": {},
     "output_type": "execute_result"
    }
   ],
   "source": [
    "#Verifying if null values are removed from raised_amount_usd\n",
    "master_frame.raised_amount_usd.isnull().sum()"
   ]
  },
  {
   "cell_type": "code",
   "execution_count": 15,
   "metadata": {},
   "outputs": [],
   "source": [
    "#Removing Null values for country_code column\n",
    "master_frame=master_frame[-master_frame.country_code.isnull()]"
   ]
  },
  {
   "cell_type": "code",
   "execution_count": 16,
   "metadata": {},
   "outputs": [
    {
     "data": {
      "text/plain": [
       "0"
      ]
     },
     "execution_count": 16,
     "metadata": {},
     "output_type": "execute_result"
    }
   ],
   "source": [
    "#Verifying if null values are removed from country_code\n",
    "master_frame.country_code.isnull().sum()"
   ]
  },
  {
   "cell_type": "code",
   "execution_count": 17,
   "metadata": {},
   "outputs": [],
   "source": [
    "#Removing Null values for category_list column\n",
    "master_frame=master_frame[-master_frame.category_list.isnull()]"
   ]
  },
  {
   "cell_type": "code",
   "execution_count": 18,
   "metadata": {},
   "outputs": [
    {
     "data": {
      "text/plain": [
       "0"
      ]
     },
     "execution_count": 18,
     "metadata": {},
     "output_type": "execute_result"
    }
   ],
   "source": [
    "#Verifying if null values are removed from category_list\n",
    "master_frame.category_list.isnull().sum()"
   ]
  },
  {
   "cell_type": "code",
   "execution_count": 19,
   "metadata": {},
   "outputs": [
    {
     "data": {
      "text/plain": [
       "company_permalink           0.00\n",
       "funding_round_permalink     0.00\n",
       "funding_round_type          0.00\n",
       "funding_round_code         69.75\n",
       "funded_at                   0.00\n",
       "raised_amount_usd           0.00\n",
       "name                        0.00\n",
       "homepage_url                3.67\n",
       "category_list               0.00\n",
       "status                      0.00\n",
       "country_code                0.00\n",
       "state_code                  1.96\n",
       "region                      1.34\n",
       "city                        1.33\n",
       "founded_at                 15.10\n",
       "dtype: float64"
      ]
     },
     "execution_count": 19,
     "metadata": {},
     "output_type": "execute_result"
    }
   ],
   "source": [
    "round(100*(master_frame.isnull().sum()/len(master_frame.index)), 2)"
   ]
  },
  {
   "cell_type": "markdown",
   "metadata": {},
   "source": [
    "#### Leaving Other Columns as it is since they are not required for the Analysis!"
   ]
  },
  {
   "cell_type": "markdown",
   "metadata": {},
   "source": [
    "# Checkpoint2: Funding Type Analysis"
   ]
  },
  {
   "cell_type": "code",
   "execution_count": 20,
   "metadata": {},
   "outputs": [],
   "source": [
    "#Retaining rows in Master_frame with only the 4 Reqd Funding Types\n",
    "master_frame=master_frame[master_frame.funding_round_type.isin([\"angel\",\"venture\",\"seed\",\"private_equity\"])]"
   ]
  },
  {
   "cell_type": "code",
   "execution_count": 21,
   "metadata": {},
   "outputs": [],
   "source": [
    "rep_val=master_frame.raised_amount_usd.groupby(master_frame.funding_round_type).mean()"
   ]
  },
  {
   "cell_type": "code",
   "execution_count": 22,
   "metadata": {},
   "outputs": [],
   "source": [
    "pd.set_option('display.float_format', lambda x: '%.2f' % x)"
   ]
  },
  {
   "cell_type": "code",
   "execution_count": 23,
   "metadata": {},
   "outputs": [
    {
     "data": {
      "text/plain": [
       "funding_round_type\n",
       "angel              971573.89\n",
       "private_equity   73938486.28\n",
       "seed               747793.68\n",
       "venture          11724222.69\n",
       "Name: raised_amount_usd, dtype: float64"
      ]
     },
     "execution_count": 23,
     "metadata": {},
     "output_type": "execute_result"
    }
   ],
   "source": [
    "rep_val"
   ]
  },
  {
   "cell_type": "code",
   "execution_count": 24,
   "metadata": {},
   "outputs": [
    {
     "data": {
      "text/html": [
       "<div>\n",
       "<style scoped>\n",
       "    .dataframe tbody tr th:only-of-type {\n",
       "        vertical-align: middle;\n",
       "    }\n",
       "\n",
       "    .dataframe tbody tr th {\n",
       "        vertical-align: top;\n",
       "    }\n",
       "\n",
       "    .dataframe thead th {\n",
       "        text-align: right;\n",
       "    }\n",
       "</style>\n",
       "<table border=\"1\" class=\"dataframe\">\n",
       "  <thead>\n",
       "    <tr style=\"text-align: right;\">\n",
       "      <th></th>\n",
       "      <th>funding_round_type</th>\n",
       "      <th>raised_amount_usd</th>\n",
       "      <th>check</th>\n",
       "    </tr>\n",
       "  </thead>\n",
       "  <tbody>\n",
       "    <tr>\n",
       "      <th>0</th>\n",
       "      <td>angel</td>\n",
       "      <td>971573.89</td>\n",
       "      <td>False</td>\n",
       "    </tr>\n",
       "    <tr>\n",
       "      <th>1</th>\n",
       "      <td>private_equity</td>\n",
       "      <td>73938486.28</td>\n",
       "      <td>False</td>\n",
       "    </tr>\n",
       "    <tr>\n",
       "      <th>2</th>\n",
       "      <td>seed</td>\n",
       "      <td>747793.68</td>\n",
       "      <td>False</td>\n",
       "    </tr>\n",
       "    <tr>\n",
       "      <th>3</th>\n",
       "      <td>venture</td>\n",
       "      <td>11724222.69</td>\n",
       "      <td>True</td>\n",
       "    </tr>\n",
       "  </tbody>\n",
       "</table>\n",
       "</div>"
      ],
      "text/plain": [
       "  funding_round_type  raised_amount_usd  check\n",
       "0              angel          971573.89  False\n",
       "1     private_equity        73938486.28  False\n",
       "2               seed          747793.68  False\n",
       "3            venture        11724222.69   True"
      ]
     },
     "execution_count": 24,
     "metadata": {},
     "output_type": "execute_result"
    }
   ],
   "source": [
    "#Check for the Suitable Investment Type\n",
    "rep_val=rep_val.reset_index()\n",
    "rep_val['check']=rep_val.raised_amount_usd.apply(lambda x: True if(x>=5000000 and x<=15000000) else False)\n",
    "rep_val.sort_values(by='check')"
   ]
  },
  {
   "cell_type": "markdown",
   "metadata": {},
   "source": [
    "Investment Type Venture is the suitable type since it satisfies the investment amount constraint(Between 5-15 M USD)"
   ]
  },
  {
   "cell_type": "markdown",
   "metadata": {},
   "source": [
    "# Checkpoint3: Country Analysis"
   ]
  },
  {
   "cell_type": "code",
   "execution_count": 25,
   "metadata": {},
   "outputs": [],
   "source": [
    "#Creating a dummy Dataframe to store the top nine countries on the basis of investment\n",
    "x=master_frame[master_frame.funding_round_type.isin(['venture'])].raised_amount_usd.groupby(master_frame.country_code).sum().sort_values(ascending = False).nlargest(9,\"first\").reset_index() "
   ]
  },
  {
   "cell_type": "code",
   "execution_count": 26,
   "metadata": {},
   "outputs": [
    {
     "data": {
      "text/plain": [
       "country_code\n",
       "USA   420068029342.00\n",
       "CHN    39338918773.00\n",
       "GBR    20072813004.00\n",
       "IND    14261508718.00\n",
       "CAN     9482217668.00\n",
       "FRA     7226851352.00\n",
       "ISR     6854350477.00\n",
       "DEU     6306921981.00\n",
       "JPN     3167647127.00\n",
       "Name: raised_amount_usd, dtype: float64"
      ]
     },
     "execution_count": 26,
     "metadata": {},
     "output_type": "execute_result"
    }
   ],
   "source": [
    "#creating df top9\n",
    "top9=master_frame[(master_frame.country_code.isin(x.country_code))]\n",
    "\n",
    "top9=top9[top9.funding_round_type.isin(['venture'])]\n",
    "top9.raised_amount_usd.groupby(top9.country_code).sum().sort_values(ascending=False)\n"
   ]
  },
  {
   "cell_type": "markdown",
   "metadata": {},
   "source": [
    "#### <font color='red'>Identifying top3 eng speaking countries manually using Wiki link given</font> \n",
    " \n"
   ]
  },
  {
   "cell_type": "markdown",
   "metadata": {},
   "source": [
    "#### <font color='Blue'>Top 3 English Speaking Countries- USA,GBR,IND</font> "
   ]
  },
  {
   "cell_type": "markdown",
   "metadata": {},
   "source": [
    "# Checkpoint4: Sector Analysis1"
   ]
  },
  {
   "cell_type": "code",
   "execution_count": 27,
   "metadata": {},
   "outputs": [],
   "source": [
    "mapping=pd.read_csv(\"mapping.csv\",encoding=\"latin1\")"
   ]
  },
  {
   "cell_type": "code",
   "execution_count": 28,
   "metadata": {},
   "outputs": [
    {
     "data": {
      "text/html": [
       "<div>\n",
       "<style scoped>\n",
       "    .dataframe tbody tr th:only-of-type {\n",
       "        vertical-align: middle;\n",
       "    }\n",
       "\n",
       "    .dataframe tbody tr th {\n",
       "        vertical-align: top;\n",
       "    }\n",
       "\n",
       "    .dataframe thead th {\n",
       "        text-align: right;\n",
       "    }\n",
       "</style>\n",
       "<table border=\"1\" class=\"dataframe\">\n",
       "  <thead>\n",
       "    <tr style=\"text-align: right;\">\n",
       "      <th></th>\n",
       "      <th>category_list</th>\n",
       "      <th>Automotive &amp; Sports</th>\n",
       "      <th>Blanks</th>\n",
       "      <th>Cleantech / Semiconductors</th>\n",
       "      <th>Entertainment</th>\n",
       "      <th>Health</th>\n",
       "      <th>Manufacturing</th>\n",
       "      <th>News, Search and Messaging</th>\n",
       "      <th>Others</th>\n",
       "      <th>Social, Finance, Analytics, Advertising</th>\n",
       "    </tr>\n",
       "  </thead>\n",
       "  <tbody>\n",
       "    <tr>\n",
       "      <th>0</th>\n",
       "      <td>NaN</td>\n",
       "      <td>0</td>\n",
       "      <td>1</td>\n",
       "      <td>0</td>\n",
       "      <td>0</td>\n",
       "      <td>0</td>\n",
       "      <td>0</td>\n",
       "      <td>0</td>\n",
       "      <td>0</td>\n",
       "      <td>0</td>\n",
       "    </tr>\n",
       "    <tr>\n",
       "      <th>1</th>\n",
       "      <td>3D</td>\n",
       "      <td>0</td>\n",
       "      <td>0</td>\n",
       "      <td>0</td>\n",
       "      <td>0</td>\n",
       "      <td>0</td>\n",
       "      <td>1</td>\n",
       "      <td>0</td>\n",
       "      <td>0</td>\n",
       "      <td>0</td>\n",
       "    </tr>\n",
       "    <tr>\n",
       "      <th>2</th>\n",
       "      <td>3D Printing</td>\n",
       "      <td>0</td>\n",
       "      <td>0</td>\n",
       "      <td>0</td>\n",
       "      <td>0</td>\n",
       "      <td>0</td>\n",
       "      <td>1</td>\n",
       "      <td>0</td>\n",
       "      <td>0</td>\n",
       "      <td>0</td>\n",
       "    </tr>\n",
       "    <tr>\n",
       "      <th>3</th>\n",
       "      <td>3D Technology</td>\n",
       "      <td>0</td>\n",
       "      <td>0</td>\n",
       "      <td>0</td>\n",
       "      <td>0</td>\n",
       "      <td>0</td>\n",
       "      <td>1</td>\n",
       "      <td>0</td>\n",
       "      <td>0</td>\n",
       "      <td>0</td>\n",
       "    </tr>\n",
       "    <tr>\n",
       "      <th>4</th>\n",
       "      <td>Accounting</td>\n",
       "      <td>0</td>\n",
       "      <td>0</td>\n",
       "      <td>0</td>\n",
       "      <td>0</td>\n",
       "      <td>0</td>\n",
       "      <td>0</td>\n",
       "      <td>0</td>\n",
       "      <td>0</td>\n",
       "      <td>1</td>\n",
       "    </tr>\n",
       "  </tbody>\n",
       "</table>\n",
       "</div>"
      ],
      "text/plain": [
       "   category_list  Automotive & Sports  Blanks  Cleantech / Semiconductors  \\\n",
       "0            NaN                    0       1                           0   \n",
       "1             3D                    0       0                           0   \n",
       "2    3D Printing                    0       0                           0   \n",
       "3  3D Technology                    0       0                           0   \n",
       "4     Accounting                    0       0                           0   \n",
       "\n",
       "   Entertainment  Health  Manufacturing  News, Search and Messaging  Others  \\\n",
       "0              0       0              0                           0       0   \n",
       "1              0       0              1                           0       0   \n",
       "2              0       0              1                           0       0   \n",
       "3              0       0              1                           0       0   \n",
       "4              0       0              0                           0       0   \n",
       "\n",
       "   Social, Finance, Analytics, Advertising  \n",
       "0                                        0  \n",
       "1                                        0  \n",
       "2                                        0  \n",
       "3                                        0  \n",
       "4                                        1  "
      ]
     },
     "execution_count": 28,
     "metadata": {},
     "output_type": "execute_result"
    }
   ],
   "source": [
    "mapping.head()"
   ]
  },
  {
   "cell_type": "code",
   "execution_count": 29,
   "metadata": {},
   "outputs": [
    {
     "data": {
      "text/plain": [
       "category_list                              1\n",
       "Automotive & Sports                        0\n",
       "Blanks                                     0\n",
       "Cleantech / Semiconductors                 0\n",
       "Entertainment                              0\n",
       "Health                                     0\n",
       "Manufacturing                              0\n",
       "News, Search and Messaging                 0\n",
       "Others                                     0\n",
       "Social, Finance, Analytics, Advertising    0\n",
       "dtype: int64"
      ]
     },
     "execution_count": 29,
     "metadata": {},
     "output_type": "execute_result"
    }
   ],
   "source": [
    "#Checking for Nulls in the Mapping DF\n",
    "mapping.isnull().sum()"
   ]
  },
  {
   "cell_type": "code",
   "execution_count": 30,
   "metadata": {},
   "outputs": [],
   "source": [
    "#Removing Null Values from Category_List column\n",
    "mapping=mapping[-mapping.category_list.isnull()]"
   ]
  },
  {
   "cell_type": "code",
   "execution_count": 31,
   "metadata": {},
   "outputs": [
    {
     "data": {
      "text/plain": [
       "category_list                              0\n",
       "Automotive & Sports                        0\n",
       "Blanks                                     0\n",
       "Cleantech / Semiconductors                 0\n",
       "Entertainment                              0\n",
       "Health                                     0\n",
       "Manufacturing                              0\n",
       "News, Search and Messaging                 0\n",
       "Others                                     0\n",
       "Social, Finance, Analytics, Advertising    0\n",
       "dtype: int64"
      ]
     },
     "execution_count": 31,
     "metadata": {},
     "output_type": "execute_result"
    }
   ],
   "source": [
    "mapping.isnull().sum()"
   ]
  },
  {
   "cell_type": "code",
   "execution_count": 32,
   "metadata": {},
   "outputs": [
    {
     "data": {
      "text/plain": [
       "Biotechnology                                                      5100\n",
       "Software                                                           3731\n",
       "Health Care                                                        1325\n",
       "Clean Technology                                                   1181\n",
       "Enterprise Software                                                1113\n",
       "                                                                   ... \n",
       "Biotechnology|Clinical Trials|Health Care|Life Sciences               1\n",
       "Chat|Games|Messaging|News|Video|Video Games                           1\n",
       "Internet|Storage|Technology                                           1\n",
       "Apps|Developer APIs|Reviews and Recommendations|Search|Software       1\n",
       "E-Commerce|Fashion|Retail|Women                                       1\n",
       "Name: category_list, Length: 8831, dtype: int64"
      ]
     },
     "execution_count": 32,
     "metadata": {},
     "output_type": "execute_result"
    }
   ],
   "source": [
    "top9.category_list.value_counts()"
   ]
  },
  {
   "cell_type": "code",
   "execution_count": 33,
   "metadata": {},
   "outputs": [
    {
     "data": {
      "text/plain": [
       "(44118, 16)"
      ]
     },
     "execution_count": 33,
     "metadata": {},
     "output_type": "execute_result"
    }
   ],
   "source": [
    "#Creating column primary_sector from Category_list column\n",
    "top9['primary_sector'] =top9['category_list'].apply(lambda x: x.split('|')[0])\n",
    "top9.shape"
   ]
  },
  {
   "cell_type": "code",
   "execution_count": 34,
   "metadata": {},
   "outputs": [
    {
     "data": {
      "text/plain": [
       "array(['3D', '3D Printing', '3D Technology', 'Accounting',\n",
       "       'Active Lifestyle', 'Ad Targeting', 'Advanced Materials',\n",
       "       'Adventure Travel', 'Advertising', 'Advertising Exchanges',\n",
       "       'Advertising Networks', 'Advertising Platforms', 'Advice',\n",
       "       'Aerospace', 'Agriculture', 'Air Pollution Control', 'Algorithms',\n",
       "       'All Markets', 'All Students', 'Alter0tive Medicine', 'Alumni',\n",
       "       'A0lytics', 'Android', 'Angels', 'Animal Feed',\n",
       "       'Anything Capital Intensive', 'App Discovery', 'App Marketing',\n",
       "       'App Stores', 'Application Performance Monitoring',\n",
       "       'Application Platforms', 'Apps', 'Aquaculture', 'Architecture',\n",
       "       'Archiving', 'Art', 'Artificial Intelligence', 'Artists Globally',\n",
       "       'Assisitive Technology', 'Assisted Living', 'Auctions', 'Audio',\n",
       "       'Audiobooks', 'Augmented Reality', 'Auto', 'Automated Kiosk',\n",
       "       'Automotive', 'B2B', 'B2B Express Delivery', 'Babies',\n",
       "       'Baby Accessories', 'Baby Boomers', 'Baby Safety', 'Banking',\n",
       "       'Batteries', 'Beauty', 'Bicycles', 'Big Data', 'Big Data A0lytics',\n",
       "       'Billing', 'Bio-Pharm', 'Biofuels', 'Bioinformatics',\n",
       "       'Biomass Power Generation', 'Biometrics', 'Biotechnology',\n",
       "       'Bitcoin', 'Blogging Platforms', 'Boating Industry',\n",
       "       'BPO Services', 'Brand Marketing', 'Brewing',\n",
       "       'Bridging Online and Offline', 'Broadcasting', 'Brokers',\n",
       "       'Browser Extensions', 'Building Owners', 'Building Products',\n",
       "       'Business A0lytics', 'Business Development',\n",
       "       'Business Information Systems', 'Business Intelligence',\n",
       "       'Business Productivity', 'Business Services', 'Business Travelers',\n",
       "       'Cable', 'CAD', 'Call Center Automation', 'Can0bis', 'Carbon',\n",
       "       'Career Ma0gement', 'Career Planning', 'Cars', 'Casual Games',\n",
       "       'Celebrity', 'Certification Test', 'Charities', 'Charity',\n",
       "       'Charter Schools', 'Chat', 'Chemicals', 'Child Care',\n",
       "       'Chi0 Internet', 'Civil Engineers', 'Classifieds', 'Clean Energy',\n",
       "       'Clean Technology', 'Clean Technology IT', 'Clinical Trials',\n",
       "       'Cloud-Based Music', 'Cloud Computing', 'Cloud Data Services',\n",
       "       'Cloud Infrastructure', 'Cloud Ma0gement', 'Cloud Security',\n",
       "       'Coffee', 'Collaboration', 'Collaborative Consumption',\n",
       "       'Collectibles', 'College Campuses', 'College Recruiting',\n",
       "       'Colleges', 'Comics', 'Commercial Real Estate', 'Commercial Solar',\n",
       "       'Commodities', 'Communications Hardware',\n",
       "       'Communications Infrastructure', 'Communities',\n",
       "       'Comparison Shopping', 'Computer Vision', 'Computers',\n",
       "       'Concentrated Solar Power', 'Concerts', 'Console Gaming',\n",
       "       'Construction', 'Consulting', 'Consumer Behavior',\n",
       "       'Consumer Electronics', 'Consumer Goods', 'Consumer Internet',\n",
       "       'Consumer Lending', 'Consumers', 'Contact Centers',\n",
       "       'Contact Ma0gement', 'Content', 'Content Creators',\n",
       "       'Content Delivery', 'Content Discovery', 'Content Syndication',\n",
       "       'Contests', 'Cooking', 'Corporate IT', 'Corporate Training',\n",
       "       'Corporate Wellness', 'Cosmetic Surgery', 'Cosmetics', 'Coupons',\n",
       "       'Coworking', 'Craft Beer', 'Creative', 'Creative Industries',\n",
       "       'Credit', 'Credit Cards', 'CRM', 'Crowdfunding', 'Crowdsourcing',\n",
       "       'Curated Web', 'Custom Retail', 'Customer Service',\n",
       "       'Customer Support Tools', 'Cyber', 'Cyber Security',\n",
       "       'Data Center Automation', 'Data Center Infrastructure',\n",
       "       'Data Centers', 'Data Integration', 'Data Mining', 'Data Privacy',\n",
       "       'Data Security', 'Data Visualization', 'Databases',\n",
       "       'Debt Collecting', 'Defense', 'Delivery', 'Demographies', 'Dental',\n",
       "       'Design', 'Designers', 'Developer APIs', 'Developer Tools',\n",
       "       'Development Platforms', 'Diabetes', 'Diagnostics',\n",
       "       'Dietary Supplements', 'Digital Entertainment', 'Digital Media',\n",
       "       'Digital Rights Ma0gement', 'Digital Sig0ge', 'Direct Advertising',\n",
       "       'Direct Marketing', 'Direct Sales', 'Discounts', 'Displays',\n",
       "       'Disruptive Models', 'Distribution', 'Distributors', 'DIY',\n",
       "       'Doctors', 'Document Ma0gement', 'DOD/Military', 'Domains',\n",
       "       'Drones', 'E-Books', 'E-Commerce', 'E-Commerce Platforms',\n",
       "       'Early-Stage Technology', 'EBooks', 'EDA Tools', 'Ediscovery',\n",
       "       'EdTech', 'Education', 'Educatio0l Games', 'Edutainment',\n",
       "       'Elder Care', 'Electric Vehicles', 'Electrical Distribution',\n",
       "       'Electronic Health Records', 'Electronics', 'Email',\n",
       "       'Email Marketing', 'Email Newsletters',\n",
       "       'Embedded Hardware and Software', 'Emerging Markets',\n",
       "       'Employer Benefits Programs', 'Employment', 'Energy',\n",
       "       'Energy Efficiency', 'Energy IT', 'Energy Ma0gement',\n",
       "       'Energy Storage', 'Engineering Firms', 'Enterprise 2.0',\n",
       "       'Enterprise Application', 'Enterprise Purchasing',\n",
       "       'Enterprise Resource Planning', 'Enterprise Search',\n",
       "       'Enterprise Security', 'Enterprise Software', 'Enterprises',\n",
       "       'Entertainment', 'Entertainment Industry', 'Entrepreneur',\n",
       "       'Environmental Innovation', 'Estimation and Quoting',\n",
       "       'Event Ma0gement', 'Events', 'Exercise', 'Eyewear',\n",
       "       'Face Recognition', 'Facebook Applications', 'Families',\n",
       "       'Fantasy Sports', 'Farmers Market', 'Farming', 'Fashion',\n",
       "       'Fertility', 'Field Support Services', 'File Sharing', 'Film',\n",
       "       'Film Distribution', 'Film Production', 'Fi0nce',\n",
       "       'Fi0nce Technology', 'Fi0ncial Exchanges', 'Fi0ncial Services',\n",
       "       'FinTech', 'Fitness', 'Flash Sales', 'Flash Storage',\n",
       "       'Fleet Ma0gement', 'Flowers', 'Fmcg', 'Food Processing', 'Forums',\n",
       "       'Fraud Detection', 'Freelancers', 'Freemium', 'FreetoPlay Gaming',\n",
       "       'Fruit', 'Fuel Cells', 'Fuels', 'Funeral Industry', 'Furniture',\n",
       "       'Gadget', 'Gambling', 'Game', 'Game Mechanics', 'Games',\n",
       "       'Gamification', 'Gas', 'Gay & Lesbian', 'General Public Worldwide',\n",
       "       'Genetic Testing', 'Geospatial', 'Gift Card', 'Gift Exchange',\n",
       "       'Gift Registries', 'Gold', 'Gover0nce', 'Government Innovation',\n",
       "       'Governments', 'Gps', 'Graphics', 'Green', 'Green Consumer Goods',\n",
       "       'Groceries', 'Group Buying', 'Group SMS', 'Guides', 'Handmade',\n",
       "       'Hardware', 'Hardware + Software', 'Health and Insurance',\n",
       "       'Health and Wellness', 'Health Care',\n",
       "       'Health Care Information Technology', 'Health Diagnostics',\n",
       "       'Health Services Industry', 'Healthcare Services',\n",
       "       'Heavy Industry', 'Hedge Funds', 'High School Students',\n",
       "       'High Schools', 'High Tech', 'Home & Garden', 'Home Automation',\n",
       "       'Home Decor', 'Home Owners', 'Home Renovation',\n",
       "       'Homeland Security', 'Homeless Shelter', 'Hospitality',\n",
       "       'Hospitals', 'Hotels', 'Human Computer Interaction',\n",
       "       'Human Resource Automation', 'Human Resources', 'Humanitarian',\n",
       "       'IaaS', 'ICT', 'Identity', 'Identity Ma0gement',\n",
       "       'Image Recognition', 'Impact Investing', 'In-Flight Entertainment',\n",
       "       'Incentives', 'Incubators', 'Independent Music Labels',\n",
       "       'Independent Pharmacies', 'Indians', 'Indoor Positioning',\n",
       "       'Industrial', 'Industrial Automation', 'Information Security',\n",
       "       'Information Services', 'Information Technology', 'Infrastructure',\n",
       "       'Innovation Engineering', 'Innovation Ma0gement', 'Insurance',\n",
       "       'Intellectual Asset Ma0gement', 'Intellectual Property',\n",
       "       'Intelligent Systems', 'Interest Graph', 'Interface Design',\n",
       "       'Interior Design', 'Internet', 'Internet Infrastructure',\n",
       "       'Internet Marketing', 'Internet of Things',\n",
       "       'Internet Radio Market', 'Internet Service Providers',\n",
       "       'Investment Ma0gement', 'iOS', 'iPad', 'iPhone',\n",
       "       'IT and Cybersecurity', 'IT Ma0gement', 'Jewelry', 'Jour0lism',\n",
       "       'K-12 Education', 'Kids', 'Knowledge Ma0gement', 'Landscaping',\n",
       "       'Language Learning', 'Lasers', 'Law Enforcement',\n",
       "       'Lead Generation', 'Lead Ma0gement', 'Legal', 'Leisure',\n",
       "       'Licensing', 'Life Sciences', 'Lifestyle', 'Lifestyle Businesses',\n",
       "       'Lifestyle Products', 'Lighting', 'Limousines', 'Linux', 'Local',\n",
       "       'Local Advertising', 'Local Based Services', 'Local Businesses',\n",
       "       'Local Commerce', 'Local Search', 'Location Based Services',\n",
       "       'Logistics', 'Logistics Company', 'Lotteries', 'Low Bid Auctions',\n",
       "       'Loyalty Programs', 'M2M', 'Machine Learning', 'Manufacturing',\n",
       "       'Maps', 'Market Research', 'Marketing Automation', 'Marketplaces',\n",
       "       'Mass Customization', 'Match-Making', 'Material Science',\n",
       "       'Mechanical Solutions', 'Media', 'Medical', 'Medical Devices',\n",
       "       'Medical Professio0ls', 'Meeting Software', 'Mens Specific',\n",
       "       'Messaging', 'mHealth', 'Micro-Enterprises', 'MicroBlogging',\n",
       "       'Minerals', 'Mining Technologies', 'Mobile', 'Mobile Advertising',\n",
       "       'Mobile A0lytics', 'Mobile Commerce', 'Mobile Devices',\n",
       "       'Mobile Enterprise', 'Mobile Games', 'Mobile Health',\n",
       "       'Mobile Infrastructure', 'Mobile Payments', 'Mobile Security',\n",
       "       'Mobile Shopping', 'Mobile Social', 'Mobile Software Tools',\n",
       "       'Mobile Video', 'Mobility', 'Monetization', 'Moneymaking',\n",
       "       'Multi-level Marketing', 'Music', 'Music Education',\n",
       "       'Music Services', 'Music Venues', 'Musical Instruments',\n",
       "       'Musicians', '0notechnology', '0tural Language Processing',\n",
       "       '0tural Resources', '0vigation', 'Network Security', 'Networking',\n",
       "       'Neuroscience', 'New Product Development', 'New Technologies',\n",
       "       'News', 'Non-Tech', 'Non Profit', 'Nonprofits', 'Nutrition',\n",
       "       'Office Space', 'Oil', 'Oil & Gas', 'Oil and Gas', 'Online Dating',\n",
       "       'Online Education', 'Online Gaming', 'Online Identity',\n",
       "       'Online Rental', 'Online Reservations', 'Online Scheduling',\n",
       "       'Online Shopping', 'Online Travel', 'Online Video Advertising',\n",
       "       'Open Source', 'Opinions', 'Optical Communications',\n",
       "       'Optimization', 'Organic', 'Organic Food', 'Outdoors',\n",
       "       'Outsourcing', 'P2P Money Transfer', 'PaaS', 'Parenting',\n",
       "       'Parking', 'Payments', 'Peer-to-Peer', 'Performance Marketing',\n",
       "       'Perso0l Branding', 'Perso0l Data', 'Perso0l Fi0nce',\n",
       "       'Perso0l Health', 'Perso0lization', 'Pervasive Computing', 'Pets',\n",
       "       'Pharmaceuticals', 'Photo Editing', 'Photo Sharing', 'Photography',\n",
       "       'Physical Security', 'Physicians', 'Plumbers', 'Point of Sale',\n",
       "       'Politics', 'Polling', 'Portals', 'Postal and Courier Services',\n",
       "       'Pre Seed', 'Predictive A0lytics', 'Presentations',\n",
       "       'Price Comparison', 'Printing', 'Privacy', 'Private School',\n",
       "       'Private Social Networking', 'Procurement', 'Product Design',\n",
       "       'Product Development Services', 'Productivity',\n",
       "       'Productivity Software', 'Professio0l Networking',\n",
       "       'Professio0l Services', 'Project Ma0gement', 'Promotio0l',\n",
       "       'Property Ma0gement', 'Public Relations', 'Public Safety',\n",
       "       'Public Transportation', 'Publishing', 'Q&A', 'QR Codes',\n",
       "       'Real Estate', 'Real Time', 'Realtors', 'Recreation', 'Recruiting',\n",
       "       'Recycling', 'Religion', 'Renewable Energies', 'Renewable Tech',\n",
       "       'Rental Housing', 'Reputation', 'Resorts', 'Restaurants', 'Retail',\n",
       "       'Retail Technology', 'Reviews and Recommendations', 'RFID',\n",
       "       'Ride Sharing', 'Risk Ma0gement', 'Robotics', 'SaaS',\n",
       "       'Sales and Marketing', 'Sales Automation', 'Search',\n",
       "       'Search Marketing', 'Security',\n",
       "       'Semiconductor Manufacturing Equipment', 'Semiconductors',\n",
       "       'Senior Citizens', 'Senior Health', 'Sensors', 'SEO',\n",
       "       'Service Industries', 'Service Providers', 'Services', 'SexTech',\n",
       "       'Shared Services', 'Shipping', 'Shoes', 'Shopping', 'Simulation',\n",
       "       'Skill Assessment', 'Small and Medium Businesses', 'Smart Grid',\n",
       "       'SNS', 'Soccer', 'Social + Mobile + Local', 'Social Bookmarking',\n",
       "       'Social Business', 'Social Buying', 'Social Commerce',\n",
       "       'Social CRM', 'Social Fundraising', 'Social Games', 'Social Media',\n",
       "       'Social Media Ma0gement', 'Social Media Marketing',\n",
       "       'Social Media Platforms', 'Social Network Media', 'Social News',\n",
       "       'Social Recruiting', 'Social Television', 'Social Travel',\n",
       "       'Software', 'Solar', 'Space Travel', 'Specialty Chemicals',\n",
       "       'Specialty Foods', 'Speech Recognition', 'Sporting Goods',\n",
       "       'Sports', 'Staffing Firms', 'Startups', 'Stock Exchanges',\n",
       "       'Storage', 'Subscription Service', 'Supply Chain Ma0gement',\n",
       "       'Surveys', 'Synchronization', 'Systems', 'Task Ma0gement', 'Taxis',\n",
       "       'Tea', 'Technology', 'Telecommunications', 'Television',\n",
       "       'Textiles', 'Theatre', 'Therapeutics', 'Ticketing', 'Tourism',\n",
       "       'Tracking', 'Trading', 'Training', 'Translation', 'Transportation',\n",
       "       'Travel', 'Travel & Tourism', 'Universities',\n",
       "       'University Students', 'Unmanned Air Systems', 'Usability',\n",
       "       'User Experience Design', 'User Interface', 'Utilities',\n",
       "       'Vending and Concessions', 'Venture Capital', 'Veteri0ry', 'Video',\n",
       "       'Video Conferencing', 'Video Games', 'Video on Demand',\n",
       "       'Video Streaming', 'Virtual Workforces', 'VoIP', 'Waste Ma0gement',\n",
       "       'Watch', 'Water', 'Water Purification', 'Wearables',\n",
       "       'Web Browsers', 'Web Design', 'Web Development', 'Web Hosting',\n",
       "       'Web Tools', 'Weddings', 'Wholesale', 'Wine And Spirits',\n",
       "       'Wireless', 'Women', 'Young Adults'], dtype=object)"
      ]
     },
     "execution_count": 34,
     "metadata": {},
     "output_type": "execute_result"
    }
   ],
   "source": [
    "mapping.category_list.unique()"
   ]
  },
  {
   "cell_type": "code",
   "execution_count": 35,
   "metadata": {},
   "outputs": [
    {
     "data": {
      "text/plain": [
       "471                 0notechnology\n",
       "472    0tural Language Processing\n",
       "473              0tural Resources\n",
       "474                     0vigation\n",
       "1                              3D\n",
       "                  ...            \n",
       "687                  Young Adults\n",
       "385                           iOS\n",
       "386                          iPad\n",
       "387                        iPhone\n",
       "441                       mHealth\n",
       "Name: category_list, Length: 687, dtype: object"
      ]
     },
     "execution_count": 35,
     "metadata": {},
     "output_type": "execute_result"
    }
   ],
   "source": [
    "#Visual Check of unique values shows some spelling issues eg:-Veteri0ry,Ma0gement\n",
    "mapping.category_list.sort_values()"
   ]
  },
  {
   "cell_type": "code",
   "execution_count": 36,
   "metadata": {},
   "outputs": [],
   "source": [
    "#Replace 0 in category_list with 'na' as na is misspelt as 0\n",
    "mapping.category_list=mapping.category_list.apply(lambda x: x.replace(\"0\",\"Na\") if x[0]=='0' else x.replace(\"0\",\"na\"))"
   ]
  },
  {
   "cell_type": "code",
   "execution_count": 37,
   "metadata": {},
   "outputs": [
    {
     "data": {
      "text/plain": [
       "1                    3D\n",
       "2           3D Printing\n",
       "3         3D Technology\n",
       "4            Accounting\n",
       "5      Active Lifestyle\n",
       "             ...       \n",
       "687        Young Adults\n",
       "385                 iOS\n",
       "386                iPad\n",
       "387              iPhone\n",
       "441             mHealth\n",
       "Name: category_list, Length: 687, dtype: object"
      ]
     },
     "execution_count": 37,
     "metadata": {},
     "output_type": "execute_result"
    }
   ],
   "source": [
    "mapping.category_list.sort_values()"
   ]
  },
  {
   "cell_type": "code",
   "execution_count": 38,
   "metadata": {},
   "outputs": [
    {
     "data": {
      "text/html": [
       "<div>\n",
       "<style scoped>\n",
       "    .dataframe tbody tr th:only-of-type {\n",
       "        vertical-align: middle;\n",
       "    }\n",
       "\n",
       "    .dataframe tbody tr th {\n",
       "        vertical-align: top;\n",
       "    }\n",
       "\n",
       "    .dataframe thead th {\n",
       "        text-align: right;\n",
       "    }\n",
       "</style>\n",
       "<table border=\"1\" class=\"dataframe\">\n",
       "  <thead>\n",
       "    <tr style=\"text-align: right;\">\n",
       "      <th></th>\n",
       "      <th>category_list</th>\n",
       "      <th>main_sector</th>\n",
       "    </tr>\n",
       "  </thead>\n",
       "  <tbody>\n",
       "    <tr>\n",
       "      <th>7</th>\n",
       "      <td>Adventure Travel</td>\n",
       "      <td>Automotive &amp; Sports</td>\n",
       "    </tr>\n",
       "    <tr>\n",
       "      <th>13</th>\n",
       "      <td>Aerospace</td>\n",
       "      <td>Automotive &amp; Sports</td>\n",
       "    </tr>\n",
       "    <tr>\n",
       "      <th>44</th>\n",
       "      <td>Auto</td>\n",
       "      <td>Automotive &amp; Sports</td>\n",
       "    </tr>\n",
       "    <tr>\n",
       "      <th>45</th>\n",
       "      <td>Automated Kiosk</td>\n",
       "      <td>Automotive &amp; Sports</td>\n",
       "    </tr>\n",
       "    <tr>\n",
       "      <th>46</th>\n",
       "      <td>Automotive</td>\n",
       "      <td>Automotive &amp; Sports</td>\n",
       "    </tr>\n",
       "  </tbody>\n",
       "</table>\n",
       "</div>"
      ],
      "text/plain": [
       "       category_list          main_sector\n",
       "7   Adventure Travel  Automotive & Sports\n",
       "13         Aerospace  Automotive & Sports\n",
       "44              Auto  Automotive & Sports\n",
       "45   Automated Kiosk  Automotive & Sports\n",
       "46        Automotive  Automotive & Sports"
      ]
     },
     "execution_count": 38,
     "metadata": {},
     "output_type": "execute_result"
    }
   ],
   "source": [
    "#Creating a Main sector DF using melt function to get the main sector name of each unique category in category_list\n",
    "mainSec=pd.melt(mapping, id_vars=['category_list'], var_name=['main_sector'])\n",
    "mainSec=mainSec[mainSec.value==1]\n",
    "mainSec=mainSec.drop('value',axis=1)\n",
    "mainSec.head()"
   ]
  },
  {
   "cell_type": "code",
   "execution_count": 39,
   "metadata": {},
   "outputs": [
    {
     "data": {
      "text/plain": [
       "Others                                     195\n",
       "Social, Finance, Analytics, Advertising    153\n",
       "Entertainment                               89\n",
       "News, Search and Messaging                  72\n",
       "Health                                      63\n",
       "Cleantech / Semiconductors                  53\n",
       "Manufacturing                               40\n",
       "Automotive & Sports                         22\n",
       "Name: main_sector, dtype: int64"
      ]
     },
     "execution_count": 39,
     "metadata": {},
     "output_type": "execute_result"
    }
   ],
   "source": [
    "mainSec.main_sector.value_counts()"
   ]
  },
  {
   "cell_type": "code",
   "execution_count": 40,
   "metadata": {},
   "outputs": [],
   "source": [
    "#Merging mainSec DF to get the mainSector in top9 on basis of Category list\n",
    "top9=top9.merge(mainSec,how=\"left\",left_on=\"primary_sector\",right_on=\"category_list\")"
   ]
  },
  {
   "cell_type": "code",
   "execution_count": 41,
   "metadata": {},
   "outputs": [
    {
     "data": {
      "text/html": [
       "<div>\n",
       "<style scoped>\n",
       "    .dataframe tbody tr th:only-of-type {\n",
       "        vertical-align: middle;\n",
       "    }\n",
       "\n",
       "    .dataframe tbody tr th {\n",
       "        vertical-align: top;\n",
       "    }\n",
       "\n",
       "    .dataframe thead th {\n",
       "        text-align: right;\n",
       "    }\n",
       "</style>\n",
       "<table border=\"1\" class=\"dataframe\">\n",
       "  <thead>\n",
       "    <tr style=\"text-align: right;\">\n",
       "      <th></th>\n",
       "      <th>company_permalink</th>\n",
       "      <th>funding_round_permalink</th>\n",
       "      <th>funding_round_type</th>\n",
       "      <th>funding_round_code</th>\n",
       "      <th>funded_at</th>\n",
       "      <th>raised_amount_usd</th>\n",
       "      <th>name</th>\n",
       "      <th>homepage_url</th>\n",
       "      <th>category_list_x</th>\n",
       "      <th>status</th>\n",
       "      <th>country_code</th>\n",
       "      <th>state_code</th>\n",
       "      <th>region</th>\n",
       "      <th>city</th>\n",
       "      <th>founded_at</th>\n",
       "      <th>primary_sector</th>\n",
       "      <th>category_list_y</th>\n",
       "      <th>main_sector</th>\n",
       "    </tr>\n",
       "  </thead>\n",
       "  <tbody>\n",
       "    <tr>\n",
       "      <th>0</th>\n",
       "      <td>/organization/-fame</td>\n",
       "      <td>/funding-round/9a01d05418af9f794eebff7ace91f638</td>\n",
       "      <td>venture</td>\n",
       "      <td>B</td>\n",
       "      <td>05-01-2015</td>\n",
       "      <td>10000000.00</td>\n",
       "      <td>#fame</td>\n",
       "      <td>http://livfame.com</td>\n",
       "      <td>Media</td>\n",
       "      <td>operating</td>\n",
       "      <td>IND</td>\n",
       "      <td>16</td>\n",
       "      <td>Mumbai</td>\n",
       "      <td>Mumbai</td>\n",
       "      <td>NaN</td>\n",
       "      <td>Media</td>\n",
       "      <td>Media</td>\n",
       "      <td>Entertainment</td>\n",
       "    </tr>\n",
       "    <tr>\n",
       "      <th>1</th>\n",
       "      <td>/organization/0-6-com</td>\n",
       "      <td>/funding-round/5727accaeaa57461bd22a9bdd945382d</td>\n",
       "      <td>venture</td>\n",
       "      <td>A</td>\n",
       "      <td>19-03-2008</td>\n",
       "      <td>2000000.00</td>\n",
       "      <td>0-6.com</td>\n",
       "      <td>http://www.0-6.com</td>\n",
       "      <td>Curated Web</td>\n",
       "      <td>operating</td>\n",
       "      <td>CHN</td>\n",
       "      <td>22</td>\n",
       "      <td>Beijing</td>\n",
       "      <td>Beijing</td>\n",
       "      <td>01-01-2007</td>\n",
       "      <td>Curated Web</td>\n",
       "      <td>Curated Web</td>\n",
       "      <td>News, Search and Messaging</td>\n",
       "    </tr>\n",
       "    <tr>\n",
       "      <th>2</th>\n",
       "      <td>/organization/0ndine-biomedical-inc</td>\n",
       "      <td>/funding-round/954b9499724b946ad8c396a57a5f3b72</td>\n",
       "      <td>venture</td>\n",
       "      <td>NaN</td>\n",
       "      <td>21-12-2009</td>\n",
       "      <td>719491.00</td>\n",
       "      <td>Ondine Biomedical Inc.</td>\n",
       "      <td>http://ondinebio.com</td>\n",
       "      <td>Biotechnology</td>\n",
       "      <td>operating</td>\n",
       "      <td>CAN</td>\n",
       "      <td>BC</td>\n",
       "      <td>Vancouver</td>\n",
       "      <td>Vancouver</td>\n",
       "      <td>01-01-1997</td>\n",
       "      <td>Biotechnology</td>\n",
       "      <td>Biotechnology</td>\n",
       "      <td>Cleantech / Semiconductors</td>\n",
       "    </tr>\n",
       "    <tr>\n",
       "      <th>3</th>\n",
       "      <td>/organization/0xdata</td>\n",
       "      <td>/funding-round/3bb2ee4a2d89251a10aaa735b1180e44</td>\n",
       "      <td>venture</td>\n",
       "      <td>B</td>\n",
       "      <td>09-11-2015</td>\n",
       "      <td>20000000.00</td>\n",
       "      <td>H2O.ai</td>\n",
       "      <td>http://h2o.ai/</td>\n",
       "      <td>Analytics</td>\n",
       "      <td>operating</td>\n",
       "      <td>USA</td>\n",
       "      <td>CA</td>\n",
       "      <td>SF Bay Area</td>\n",
       "      <td>Mountain View</td>\n",
       "      <td>01-01-2011</td>\n",
       "      <td>Analytics</td>\n",
       "      <td>Analytics</td>\n",
       "      <td>Social, Finance, Analytics, Advertising</td>\n",
       "    </tr>\n",
       "    <tr>\n",
       "      <th>4</th>\n",
       "      <td>/organization/0xdata</td>\n",
       "      <td>/funding-round/ae2a174c06517c2394aed45006322a7e</td>\n",
       "      <td>venture</td>\n",
       "      <td>NaN</td>\n",
       "      <td>03-01-2013</td>\n",
       "      <td>1700000.00</td>\n",
       "      <td>H2O.ai</td>\n",
       "      <td>http://h2o.ai/</td>\n",
       "      <td>Analytics</td>\n",
       "      <td>operating</td>\n",
       "      <td>USA</td>\n",
       "      <td>CA</td>\n",
       "      <td>SF Bay Area</td>\n",
       "      <td>Mountain View</td>\n",
       "      <td>01-01-2011</td>\n",
       "      <td>Analytics</td>\n",
       "      <td>Analytics</td>\n",
       "      <td>Social, Finance, Analytics, Advertising</td>\n",
       "    </tr>\n",
       "  </tbody>\n",
       "</table>\n",
       "</div>"
      ],
      "text/plain": [
       "                     company_permalink  \\\n",
       "0                  /organization/-fame   \n",
       "1                /organization/0-6-com   \n",
       "2  /organization/0ndine-biomedical-inc   \n",
       "3                 /organization/0xdata   \n",
       "4                 /organization/0xdata   \n",
       "\n",
       "                           funding_round_permalink funding_round_type  \\\n",
       "0  /funding-round/9a01d05418af9f794eebff7ace91f638            venture   \n",
       "1  /funding-round/5727accaeaa57461bd22a9bdd945382d            venture   \n",
       "2  /funding-round/954b9499724b946ad8c396a57a5f3b72            venture   \n",
       "3  /funding-round/3bb2ee4a2d89251a10aaa735b1180e44            venture   \n",
       "4  /funding-round/ae2a174c06517c2394aed45006322a7e            venture   \n",
       "\n",
       "  funding_round_code   funded_at  raised_amount_usd                    name  \\\n",
       "0                  B  05-01-2015        10000000.00                   #fame   \n",
       "1                  A  19-03-2008         2000000.00                 0-6.com   \n",
       "2                NaN  21-12-2009          719491.00  Ondine Biomedical Inc.   \n",
       "3                  B  09-11-2015        20000000.00                  H2O.ai   \n",
       "4                NaN  03-01-2013         1700000.00                  H2O.ai   \n",
       "\n",
       "           homepage_url category_list_x     status country_code state_code  \\\n",
       "0    http://livfame.com           Media  operating          IND         16   \n",
       "1    http://www.0-6.com     Curated Web  operating          CHN         22   \n",
       "2  http://ondinebio.com   Biotechnology  operating          CAN         BC   \n",
       "3        http://h2o.ai/       Analytics  operating          USA         CA   \n",
       "4        http://h2o.ai/       Analytics  operating          USA         CA   \n",
       "\n",
       "        region           city  founded_at primary_sector category_list_y  \\\n",
       "0       Mumbai         Mumbai         NaN          Media           Media   \n",
       "1      Beijing        Beijing  01-01-2007    Curated Web     Curated Web   \n",
       "2    Vancouver      Vancouver  01-01-1997  Biotechnology   Biotechnology   \n",
       "3  SF Bay Area  Mountain View  01-01-2011      Analytics       Analytics   \n",
       "4  SF Bay Area  Mountain View  01-01-2011      Analytics       Analytics   \n",
       "\n",
       "                               main_sector  \n",
       "0                            Entertainment  \n",
       "1               News, Search and Messaging  \n",
       "2               Cleantech / Semiconductors  \n",
       "3  Social, Finance, Analytics, Advertising  \n",
       "4  Social, Finance, Analytics, Advertising  "
      ]
     },
     "execution_count": 41,
     "metadata": {},
     "output_type": "execute_result"
    }
   ],
   "source": [
    "top9.head()"
   ]
  },
  {
   "cell_type": "code",
   "execution_count": 42,
   "metadata": {},
   "outputs": [],
   "source": [
    "#Dropping the extra category_list column created as category_list_y\n",
    "top9=top9.drop('category_list_y',axis=1)"
   ]
  },
  {
   "cell_type": "code",
   "execution_count": 43,
   "metadata": {},
   "outputs": [],
   "source": [
    "#Renaming Category_list_x to category_list\n",
    "top9=top9.rename(columns={\"category_list_x\":\"category_list\"})"
   ]
  },
  {
   "cell_type": "code",
   "execution_count": 44,
   "metadata": {},
   "outputs": [
    {
     "data": {
      "text/html": [
       "<div>\n",
       "<style scoped>\n",
       "    .dataframe tbody tr th:only-of-type {\n",
       "        vertical-align: middle;\n",
       "    }\n",
       "\n",
       "    .dataframe tbody tr th {\n",
       "        vertical-align: top;\n",
       "    }\n",
       "\n",
       "    .dataframe thead th {\n",
       "        text-align: right;\n",
       "    }\n",
       "</style>\n",
       "<table border=\"1\" class=\"dataframe\">\n",
       "  <thead>\n",
       "    <tr style=\"text-align: right;\">\n",
       "      <th></th>\n",
       "      <th>company_permalink</th>\n",
       "      <th>funding_round_permalink</th>\n",
       "      <th>funding_round_type</th>\n",
       "      <th>funding_round_code</th>\n",
       "      <th>funded_at</th>\n",
       "      <th>raised_amount_usd</th>\n",
       "      <th>name</th>\n",
       "      <th>homepage_url</th>\n",
       "      <th>category_list</th>\n",
       "      <th>status</th>\n",
       "      <th>country_code</th>\n",
       "      <th>state_code</th>\n",
       "      <th>region</th>\n",
       "      <th>city</th>\n",
       "      <th>founded_at</th>\n",
       "      <th>primary_sector</th>\n",
       "      <th>main_sector</th>\n",
       "    </tr>\n",
       "  </thead>\n",
       "  <tbody>\n",
       "    <tr>\n",
       "      <th>0</th>\n",
       "      <td>/organization/-fame</td>\n",
       "      <td>/funding-round/9a01d05418af9f794eebff7ace91f638</td>\n",
       "      <td>venture</td>\n",
       "      <td>B</td>\n",
       "      <td>05-01-2015</td>\n",
       "      <td>10000000.00</td>\n",
       "      <td>#fame</td>\n",
       "      <td>http://livfame.com</td>\n",
       "      <td>Media</td>\n",
       "      <td>operating</td>\n",
       "      <td>IND</td>\n",
       "      <td>16</td>\n",
       "      <td>Mumbai</td>\n",
       "      <td>Mumbai</td>\n",
       "      <td>NaN</td>\n",
       "      <td>Media</td>\n",
       "      <td>Entertainment</td>\n",
       "    </tr>\n",
       "    <tr>\n",
       "      <th>1</th>\n",
       "      <td>/organization/0-6-com</td>\n",
       "      <td>/funding-round/5727accaeaa57461bd22a9bdd945382d</td>\n",
       "      <td>venture</td>\n",
       "      <td>A</td>\n",
       "      <td>19-03-2008</td>\n",
       "      <td>2000000.00</td>\n",
       "      <td>0-6.com</td>\n",
       "      <td>http://www.0-6.com</td>\n",
       "      <td>Curated Web</td>\n",
       "      <td>operating</td>\n",
       "      <td>CHN</td>\n",
       "      <td>22</td>\n",
       "      <td>Beijing</td>\n",
       "      <td>Beijing</td>\n",
       "      <td>01-01-2007</td>\n",
       "      <td>Curated Web</td>\n",
       "      <td>News, Search and Messaging</td>\n",
       "    </tr>\n",
       "    <tr>\n",
       "      <th>2</th>\n",
       "      <td>/organization/0ndine-biomedical-inc</td>\n",
       "      <td>/funding-round/954b9499724b946ad8c396a57a5f3b72</td>\n",
       "      <td>venture</td>\n",
       "      <td>NaN</td>\n",
       "      <td>21-12-2009</td>\n",
       "      <td>719491.00</td>\n",
       "      <td>Ondine Biomedical Inc.</td>\n",
       "      <td>http://ondinebio.com</td>\n",
       "      <td>Biotechnology</td>\n",
       "      <td>operating</td>\n",
       "      <td>CAN</td>\n",
       "      <td>BC</td>\n",
       "      <td>Vancouver</td>\n",
       "      <td>Vancouver</td>\n",
       "      <td>01-01-1997</td>\n",
       "      <td>Biotechnology</td>\n",
       "      <td>Cleantech / Semiconductors</td>\n",
       "    </tr>\n",
       "    <tr>\n",
       "      <th>3</th>\n",
       "      <td>/organization/0xdata</td>\n",
       "      <td>/funding-round/3bb2ee4a2d89251a10aaa735b1180e44</td>\n",
       "      <td>venture</td>\n",
       "      <td>B</td>\n",
       "      <td>09-11-2015</td>\n",
       "      <td>20000000.00</td>\n",
       "      <td>H2O.ai</td>\n",
       "      <td>http://h2o.ai/</td>\n",
       "      <td>Analytics</td>\n",
       "      <td>operating</td>\n",
       "      <td>USA</td>\n",
       "      <td>CA</td>\n",
       "      <td>SF Bay Area</td>\n",
       "      <td>Mountain View</td>\n",
       "      <td>01-01-2011</td>\n",
       "      <td>Analytics</td>\n",
       "      <td>Social, Finance, Analytics, Advertising</td>\n",
       "    </tr>\n",
       "    <tr>\n",
       "      <th>4</th>\n",
       "      <td>/organization/0xdata</td>\n",
       "      <td>/funding-round/ae2a174c06517c2394aed45006322a7e</td>\n",
       "      <td>venture</td>\n",
       "      <td>NaN</td>\n",
       "      <td>03-01-2013</td>\n",
       "      <td>1700000.00</td>\n",
       "      <td>H2O.ai</td>\n",
       "      <td>http://h2o.ai/</td>\n",
       "      <td>Analytics</td>\n",
       "      <td>operating</td>\n",
       "      <td>USA</td>\n",
       "      <td>CA</td>\n",
       "      <td>SF Bay Area</td>\n",
       "      <td>Mountain View</td>\n",
       "      <td>01-01-2011</td>\n",
       "      <td>Analytics</td>\n",
       "      <td>Social, Finance, Analytics, Advertising</td>\n",
       "    </tr>\n",
       "  </tbody>\n",
       "</table>\n",
       "</div>"
      ],
      "text/plain": [
       "                     company_permalink  \\\n",
       "0                  /organization/-fame   \n",
       "1                /organization/0-6-com   \n",
       "2  /organization/0ndine-biomedical-inc   \n",
       "3                 /organization/0xdata   \n",
       "4                 /organization/0xdata   \n",
       "\n",
       "                           funding_round_permalink funding_round_type  \\\n",
       "0  /funding-round/9a01d05418af9f794eebff7ace91f638            venture   \n",
       "1  /funding-round/5727accaeaa57461bd22a9bdd945382d            venture   \n",
       "2  /funding-round/954b9499724b946ad8c396a57a5f3b72            venture   \n",
       "3  /funding-round/3bb2ee4a2d89251a10aaa735b1180e44            venture   \n",
       "4  /funding-round/ae2a174c06517c2394aed45006322a7e            venture   \n",
       "\n",
       "  funding_round_code   funded_at  raised_amount_usd                    name  \\\n",
       "0                  B  05-01-2015        10000000.00                   #fame   \n",
       "1                  A  19-03-2008         2000000.00                 0-6.com   \n",
       "2                NaN  21-12-2009          719491.00  Ondine Biomedical Inc.   \n",
       "3                  B  09-11-2015        20000000.00                  H2O.ai   \n",
       "4                NaN  03-01-2013         1700000.00                  H2O.ai   \n",
       "\n",
       "           homepage_url  category_list     status country_code state_code  \\\n",
       "0    http://livfame.com          Media  operating          IND         16   \n",
       "1    http://www.0-6.com    Curated Web  operating          CHN         22   \n",
       "2  http://ondinebio.com  Biotechnology  operating          CAN         BC   \n",
       "3        http://h2o.ai/      Analytics  operating          USA         CA   \n",
       "4        http://h2o.ai/      Analytics  operating          USA         CA   \n",
       "\n",
       "        region           city  founded_at primary_sector  \\\n",
       "0       Mumbai         Mumbai         NaN          Media   \n",
       "1      Beijing        Beijing  01-01-2007    Curated Web   \n",
       "2    Vancouver      Vancouver  01-01-1997  Biotechnology   \n",
       "3  SF Bay Area  Mountain View  01-01-2011      Analytics   \n",
       "4  SF Bay Area  Mountain View  01-01-2011      Analytics   \n",
       "\n",
       "                               main_sector  \n",
       "0                            Entertainment  \n",
       "1               News, Search and Messaging  \n",
       "2               Cleantech / Semiconductors  \n",
       "3  Social, Finance, Analytics, Advertising  \n",
       "4  Social, Finance, Analytics, Advertising  "
      ]
     },
     "execution_count": 44,
     "metadata": {},
     "output_type": "execute_result"
    }
   ],
   "source": [
    "top9.head()"
   ]
  },
  {
   "cell_type": "markdown",
   "metadata": {},
   "source": [
    "#### Data Cleaning of Top9 Dataframe after merge"
   ]
  },
  {
   "cell_type": "code",
   "execution_count": 45,
   "metadata": {},
   "outputs": [
    {
     "data": {
      "text/plain": [
       "16"
      ]
     },
     "execution_count": 45,
     "metadata": {},
     "output_type": "execute_result"
    }
   ],
   "source": [
    "len(top9[top9['main_sector'].isnull()])"
   ]
  },
  {
   "cell_type": "markdown",
   "metadata": {},
   "source": [
    "##### The Main_sector Column has 175 Null values"
   ]
  },
  {
   "cell_type": "code",
   "execution_count": 46,
   "metadata": {},
   "outputs": [],
   "source": [
    "#Removing rows with Main_sector as NULL\n",
    "top9=top9[-top9.main_sector.isnull()]"
   ]
  },
  {
   "cell_type": "code",
   "execution_count": 47,
   "metadata": {},
   "outputs": [
    {
     "data": {
      "text/plain": [
       "0"
      ]
     },
     "execution_count": 47,
     "metadata": {},
     "output_type": "execute_result"
    }
   ],
   "source": [
    "top9.main_sector.isnull().sum()"
   ]
  },
  {
   "cell_type": "markdown",
   "metadata": {},
   "source": [
    "# Checkpoint5: Sector Analysis2"
   ]
  },
  {
   "cell_type": "markdown",
   "metadata": {},
   "source": [
    "### <font color='Blue'>As analysed under Country Analysis Checkpoint, We can get the top 3 English Speaking countries are USA(For D1), GBR(For D2) and IND(for D3)</font>"
   ]
  },
  {
   "cell_type": "code",
   "execution_count": 48,
   "metadata": {},
   "outputs": [],
   "source": [
    "#Creting DFs D1,D2 and D3\n",
    "D1=top9[top9.country_code=='USA']\n",
    "D2=top9[top9.country_code=='GBR']\n",
    "D3=top9[top9.country_code=='IND']"
   ]
  },
  {
   "cell_type": "markdown",
   "metadata": {},
   "source": [
    "#### Sector-wise Analysis of USA(D1)"
   ]
  },
  {
   "cell_type": "code",
   "execution_count": 49,
   "metadata": {},
   "outputs": [
    {
     "data": {
      "text/html": [
       "<div>\n",
       "<style scoped>\n",
       "    .dataframe tbody tr th:only-of-type {\n",
       "        vertical-align: middle;\n",
       "    }\n",
       "\n",
       "    .dataframe tbody tr th {\n",
       "        vertical-align: top;\n",
       "    }\n",
       "\n",
       "    .dataframe thead th {\n",
       "        text-align: right;\n",
       "    }\n",
       "</style>\n",
       "<table border=\"1\" class=\"dataframe\">\n",
       "  <thead>\n",
       "    <tr style=\"text-align: right;\">\n",
       "      <th></th>\n",
       "      <th>company_permalink</th>\n",
       "      <th>funding_round_permalink</th>\n",
       "      <th>funding_round_type</th>\n",
       "      <th>funding_round_code</th>\n",
       "      <th>funded_at</th>\n",
       "      <th>raised_amount_usd</th>\n",
       "      <th>name</th>\n",
       "      <th>homepage_url</th>\n",
       "      <th>category_list</th>\n",
       "      <th>status</th>\n",
       "      <th>country_code</th>\n",
       "      <th>state_code</th>\n",
       "      <th>region</th>\n",
       "      <th>city</th>\n",
       "      <th>founded_at</th>\n",
       "      <th>primary_sector</th>\n",
       "      <th>main_sector</th>\n",
       "    </tr>\n",
       "  </thead>\n",
       "  <tbody>\n",
       "    <tr>\n",
       "      <th>3</th>\n",
       "      <td>/organization/0xdata</td>\n",
       "      <td>/funding-round/3bb2ee4a2d89251a10aaa735b1180e44</td>\n",
       "      <td>venture</td>\n",
       "      <td>B</td>\n",
       "      <td>09-11-2015</td>\n",
       "      <td>20000000.00</td>\n",
       "      <td>H2O.ai</td>\n",
       "      <td>http://h2o.ai/</td>\n",
       "      <td>Analytics</td>\n",
       "      <td>operating</td>\n",
       "      <td>USA</td>\n",
       "      <td>CA</td>\n",
       "      <td>SF Bay Area</td>\n",
       "      <td>Mountain View</td>\n",
       "      <td>01-01-2011</td>\n",
       "      <td>Analytics</td>\n",
       "      <td>Social, Finance, Analytics, Advertising</td>\n",
       "    </tr>\n",
       "    <tr>\n",
       "      <th>4</th>\n",
       "      <td>/organization/0xdata</td>\n",
       "      <td>/funding-round/ae2a174c06517c2394aed45006322a7e</td>\n",
       "      <td>venture</td>\n",
       "      <td>NaN</td>\n",
       "      <td>03-01-2013</td>\n",
       "      <td>1700000.00</td>\n",
       "      <td>H2O.ai</td>\n",
       "      <td>http://h2o.ai/</td>\n",
       "      <td>Analytics</td>\n",
       "      <td>operating</td>\n",
       "      <td>USA</td>\n",
       "      <td>CA</td>\n",
       "      <td>SF Bay Area</td>\n",
       "      <td>Mountain View</td>\n",
       "      <td>01-01-2011</td>\n",
       "      <td>Analytics</td>\n",
       "      <td>Social, Finance, Analytics, Advertising</td>\n",
       "    </tr>\n",
       "    <tr>\n",
       "      <th>5</th>\n",
       "      <td>/organization/0xdata</td>\n",
       "      <td>/funding-round/e1cfcbe1bdf4c70277c5f29a3482f24e</td>\n",
       "      <td>venture</td>\n",
       "      <td>A</td>\n",
       "      <td>19-07-2014</td>\n",
       "      <td>8900000.00</td>\n",
       "      <td>H2O.ai</td>\n",
       "      <td>http://h2o.ai/</td>\n",
       "      <td>Analytics</td>\n",
       "      <td>operating</td>\n",
       "      <td>USA</td>\n",
       "      <td>CA</td>\n",
       "      <td>SF Bay Area</td>\n",
       "      <td>Mountain View</td>\n",
       "      <td>01-01-2011</td>\n",
       "      <td>Analytics</td>\n",
       "      <td>Social, Finance, Analytics, Advertising</td>\n",
       "    </tr>\n",
       "    <tr>\n",
       "      <th>6</th>\n",
       "      <td>/organization/1-mainstream</td>\n",
       "      <td>/funding-round/b952cbaf401f310927430c97b68162ea</td>\n",
       "      <td>venture</td>\n",
       "      <td>NaN</td>\n",
       "      <td>17-03-2015</td>\n",
       "      <td>5000000.00</td>\n",
       "      <td>1 Mainstream</td>\n",
       "      <td>http://www.1mainstream.com</td>\n",
       "      <td>Apps|Cable|Distribution|Software</td>\n",
       "      <td>acquired</td>\n",
       "      <td>USA</td>\n",
       "      <td>CA</td>\n",
       "      <td>SF Bay Area</td>\n",
       "      <td>Cupertino</td>\n",
       "      <td>01-03-2012</td>\n",
       "      <td>Apps</td>\n",
       "      <td>News, Search and Messaging</td>\n",
       "    </tr>\n",
       "    <tr>\n",
       "      <th>8</th>\n",
       "      <td>/organization/1000memories</td>\n",
       "      <td>/funding-round/502bd0e50c27616995e4bdad24605ef8</td>\n",
       "      <td>venture</td>\n",
       "      <td>A</td>\n",
       "      <td>16-02-2011</td>\n",
       "      <td>2520000.00</td>\n",
       "      <td>1000memories</td>\n",
       "      <td>http://1000memories.com</td>\n",
       "      <td>Curated Web</td>\n",
       "      <td>acquired</td>\n",
       "      <td>USA</td>\n",
       "      <td>CA</td>\n",
       "      <td>SF Bay Area</td>\n",
       "      <td>San Francisco</td>\n",
       "      <td>01-07-2010</td>\n",
       "      <td>Curated Web</td>\n",
       "      <td>News, Search and Messaging</td>\n",
       "    </tr>\n",
       "  </tbody>\n",
       "</table>\n",
       "</div>"
      ],
      "text/plain": [
       "            company_permalink  \\\n",
       "3        /organization/0xdata   \n",
       "4        /organization/0xdata   \n",
       "5        /organization/0xdata   \n",
       "6  /organization/1-mainstream   \n",
       "8  /organization/1000memories   \n",
       "\n",
       "                           funding_round_permalink funding_round_type  \\\n",
       "3  /funding-round/3bb2ee4a2d89251a10aaa735b1180e44            venture   \n",
       "4  /funding-round/ae2a174c06517c2394aed45006322a7e            venture   \n",
       "5  /funding-round/e1cfcbe1bdf4c70277c5f29a3482f24e            venture   \n",
       "6  /funding-round/b952cbaf401f310927430c97b68162ea            venture   \n",
       "8  /funding-round/502bd0e50c27616995e4bdad24605ef8            venture   \n",
       "\n",
       "  funding_round_code   funded_at  raised_amount_usd          name  \\\n",
       "3                  B  09-11-2015        20000000.00        H2O.ai   \n",
       "4                NaN  03-01-2013         1700000.00        H2O.ai   \n",
       "5                  A  19-07-2014         8900000.00        H2O.ai   \n",
       "6                NaN  17-03-2015         5000000.00  1 Mainstream   \n",
       "8                  A  16-02-2011         2520000.00  1000memories   \n",
       "\n",
       "                 homepage_url                     category_list     status  \\\n",
       "3              http://h2o.ai/                         Analytics  operating   \n",
       "4              http://h2o.ai/                         Analytics  operating   \n",
       "5              http://h2o.ai/                         Analytics  operating   \n",
       "6  http://www.1mainstream.com  Apps|Cable|Distribution|Software   acquired   \n",
       "8     http://1000memories.com                       Curated Web   acquired   \n",
       "\n",
       "  country_code state_code       region           city  founded_at  \\\n",
       "3          USA         CA  SF Bay Area  Mountain View  01-01-2011   \n",
       "4          USA         CA  SF Bay Area  Mountain View  01-01-2011   \n",
       "5          USA         CA  SF Bay Area  Mountain View  01-01-2011   \n",
       "6          USA         CA  SF Bay Area      Cupertino  01-03-2012   \n",
       "8          USA         CA  SF Bay Area  San Francisco  01-07-2010   \n",
       "\n",
       "  primary_sector                              main_sector  \n",
       "3      Analytics  Social, Finance, Analytics, Advertising  \n",
       "4      Analytics  Social, Finance, Analytics, Advertising  \n",
       "5      Analytics  Social, Finance, Analytics, Advertising  \n",
       "6           Apps               News, Search and Messaging  \n",
       "8    Curated Web               News, Search and Messaging  "
      ]
     },
     "execution_count": 49,
     "metadata": {},
     "output_type": "execute_result"
    }
   ],
   "source": [
    "D1.head()"
   ]
  },
  {
   "cell_type": "code",
   "execution_count": 50,
   "metadata": {},
   "outputs": [],
   "source": [
    "# Retaining values matching the condition of investment Amount range 5-15 M USD-USA\n",
    "D1 = D1[(D1.raised_amount_usd >= 5000000) & (D1.raised_amount_usd <= 15000000)]"
   ]
  },
  {
   "cell_type": "code",
   "execution_count": 51,
   "metadata": {},
   "outputs": [],
   "source": [
    "#Invest_count column for count of Investments for each main sector-USA\n",
    "D1['Invest_count']=D1.raised_amount_usd.groupby(D1.main_sector).transform(lambda x:x.count())"
   ]
  },
  {
   "cell_type": "code",
   "execution_count": 52,
   "metadata": {},
   "outputs": [],
   "source": [
    "#Invest_amount column for amount invested in each main sector-USA\n",
    "D1['Invest_amount']=D1.raised_amount_usd.groupby(D1.main_sector).transform(lambda x:x.sum())"
   ]
  },
  {
   "cell_type": "code",
   "execution_count": 53,
   "metadata": {},
   "outputs": [
    {
     "data": {
      "text/html": [
       "<div>\n",
       "<style scoped>\n",
       "    .dataframe tbody tr th:only-of-type {\n",
       "        vertical-align: middle;\n",
       "    }\n",
       "\n",
       "    .dataframe tbody tr th {\n",
       "        vertical-align: top;\n",
       "    }\n",
       "\n",
       "    .dataframe thead th {\n",
       "        text-align: right;\n",
       "    }\n",
       "</style>\n",
       "<table border=\"1\" class=\"dataframe\">\n",
       "  <thead>\n",
       "    <tr style=\"text-align: right;\">\n",
       "      <th></th>\n",
       "      <th>company_permalink</th>\n",
       "      <th>funding_round_permalink</th>\n",
       "      <th>funding_round_type</th>\n",
       "      <th>funding_round_code</th>\n",
       "      <th>funded_at</th>\n",
       "      <th>raised_amount_usd</th>\n",
       "      <th>name</th>\n",
       "      <th>homepage_url</th>\n",
       "      <th>category_list</th>\n",
       "      <th>status</th>\n",
       "      <th>country_code</th>\n",
       "      <th>state_code</th>\n",
       "      <th>region</th>\n",
       "      <th>city</th>\n",
       "      <th>founded_at</th>\n",
       "      <th>primary_sector</th>\n",
       "      <th>main_sector</th>\n",
       "      <th>Invest_count</th>\n",
       "      <th>Invest_amount</th>\n",
       "    </tr>\n",
       "  </thead>\n",
       "  <tbody>\n",
       "    <tr>\n",
       "      <th>5</th>\n",
       "      <td>/organization/0xdata</td>\n",
       "      <td>/funding-round/e1cfcbe1bdf4c70277c5f29a3482f24e</td>\n",
       "      <td>venture</td>\n",
       "      <td>A</td>\n",
       "      <td>19-07-2014</td>\n",
       "      <td>8900000.00</td>\n",
       "      <td>H2O.ai</td>\n",
       "      <td>http://h2o.ai/</td>\n",
       "      <td>Analytics</td>\n",
       "      <td>operating</td>\n",
       "      <td>USA</td>\n",
       "      <td>CA</td>\n",
       "      <td>SF Bay Area</td>\n",
       "      <td>Mountain View</td>\n",
       "      <td>01-01-2011</td>\n",
       "      <td>Analytics</td>\n",
       "      <td>Social, Finance, Analytics, Advertising</td>\n",
       "      <td>2714.00</td>\n",
       "      <td>23807376964.00</td>\n",
       "    </tr>\n",
       "    <tr>\n",
       "      <th>6</th>\n",
       "      <td>/organization/1-mainstream</td>\n",
       "      <td>/funding-round/b952cbaf401f310927430c97b68162ea</td>\n",
       "      <td>venture</td>\n",
       "      <td>NaN</td>\n",
       "      <td>17-03-2015</td>\n",
       "      <td>5000000.00</td>\n",
       "      <td>1 Mainstream</td>\n",
       "      <td>http://www.1mainstream.com</td>\n",
       "      <td>Apps|Cable|Distribution|Software</td>\n",
       "      <td>acquired</td>\n",
       "      <td>USA</td>\n",
       "      <td>CA</td>\n",
       "      <td>SF Bay Area</td>\n",
       "      <td>Cupertino</td>\n",
       "      <td>01-03-2012</td>\n",
       "      <td>Apps</td>\n",
       "      <td>News, Search and Messaging</td>\n",
       "      <td>1583.00</td>\n",
       "      <td>13971567428.00</td>\n",
       "    </tr>\n",
       "    <tr>\n",
       "      <th>28</th>\n",
       "      <td>/organization/128-technology</td>\n",
       "      <td>/funding-round/fb6216a30cb566ede89e0bee0623a634</td>\n",
       "      <td>venture</td>\n",
       "      <td>NaN</td>\n",
       "      <td>16-12-2014</td>\n",
       "      <td>11999347.00</td>\n",
       "      <td>128 Technology</td>\n",
       "      <td>http://www.128technology.com/</td>\n",
       "      <td>Service Providers|Technology</td>\n",
       "      <td>operating</td>\n",
       "      <td>USA</td>\n",
       "      <td>MA</td>\n",
       "      <td>Boston</td>\n",
       "      <td>Burlington</td>\n",
       "      <td>07-07-2014</td>\n",
       "      <td>Service Providers</td>\n",
       "      <td>Others</td>\n",
       "      <td>2950.00</td>\n",
       "      <td>26321007002.00</td>\n",
       "    </tr>\n",
       "    <tr>\n",
       "      <th>31</th>\n",
       "      <td>/organization/1366-technologies</td>\n",
       "      <td>/funding-round/424129ce1235cfab2655ee81305f7c2b</td>\n",
       "      <td>venture</td>\n",
       "      <td>C</td>\n",
       "      <td>15-10-2013</td>\n",
       "      <td>15000000.00</td>\n",
       "      <td>1366 Technologies</td>\n",
       "      <td>http://www.1366tech.com</td>\n",
       "      <td>Manufacturing</td>\n",
       "      <td>operating</td>\n",
       "      <td>USA</td>\n",
       "      <td>MA</td>\n",
       "      <td>Boston</td>\n",
       "      <td>Bedford</td>\n",
       "      <td>01-01-2007</td>\n",
       "      <td>Manufacturing</td>\n",
       "      <td>Manufacturing</td>\n",
       "      <td>799.00</td>\n",
       "      <td>7258553378.00</td>\n",
       "    </tr>\n",
       "    <tr>\n",
       "      <th>32</th>\n",
       "      <td>/organization/1366-technologies</td>\n",
       "      <td>/funding-round/6d3f3797371956ece035b8478c1441b2</td>\n",
       "      <td>venture</td>\n",
       "      <td>C</td>\n",
       "      <td>09-04-2015</td>\n",
       "      <td>5000000.00</td>\n",
       "      <td>1366 Technologies</td>\n",
       "      <td>http://www.1366tech.com</td>\n",
       "      <td>Manufacturing</td>\n",
       "      <td>operating</td>\n",
       "      <td>USA</td>\n",
       "      <td>MA</td>\n",
       "      <td>Boston</td>\n",
       "      <td>Bedford</td>\n",
       "      <td>01-01-2007</td>\n",
       "      <td>Manufacturing</td>\n",
       "      <td>Manufacturing</td>\n",
       "      <td>799.00</td>\n",
       "      <td>7258553378.00</td>\n",
       "    </tr>\n",
       "  </tbody>\n",
       "</table>\n",
       "</div>"
      ],
      "text/plain": [
       "                  company_permalink  \\\n",
       "5              /organization/0xdata   \n",
       "6        /organization/1-mainstream   \n",
       "28     /organization/128-technology   \n",
       "31  /organization/1366-technologies   \n",
       "32  /organization/1366-technologies   \n",
       "\n",
       "                            funding_round_permalink funding_round_type  \\\n",
       "5   /funding-round/e1cfcbe1bdf4c70277c5f29a3482f24e            venture   \n",
       "6   /funding-round/b952cbaf401f310927430c97b68162ea            venture   \n",
       "28  /funding-round/fb6216a30cb566ede89e0bee0623a634            venture   \n",
       "31  /funding-round/424129ce1235cfab2655ee81305f7c2b            venture   \n",
       "32  /funding-round/6d3f3797371956ece035b8478c1441b2            venture   \n",
       "\n",
       "   funding_round_code   funded_at  raised_amount_usd               name  \\\n",
       "5                   A  19-07-2014         8900000.00             H2O.ai   \n",
       "6                 NaN  17-03-2015         5000000.00       1 Mainstream   \n",
       "28                NaN  16-12-2014        11999347.00     128 Technology   \n",
       "31                  C  15-10-2013        15000000.00  1366 Technologies   \n",
       "32                  C  09-04-2015         5000000.00  1366 Technologies   \n",
       "\n",
       "                     homepage_url                     category_list  \\\n",
       "5                  http://h2o.ai/                         Analytics   \n",
       "6      http://www.1mainstream.com  Apps|Cable|Distribution|Software   \n",
       "28  http://www.128technology.com/      Service Providers|Technology   \n",
       "31        http://www.1366tech.com                     Manufacturing   \n",
       "32        http://www.1366tech.com                     Manufacturing   \n",
       "\n",
       "       status country_code state_code       region           city  founded_at  \\\n",
       "5   operating          USA         CA  SF Bay Area  Mountain View  01-01-2011   \n",
       "6    acquired          USA         CA  SF Bay Area      Cupertino  01-03-2012   \n",
       "28  operating          USA         MA       Boston     Burlington  07-07-2014   \n",
       "31  operating          USA         MA       Boston        Bedford  01-01-2007   \n",
       "32  operating          USA         MA       Boston        Bedford  01-01-2007   \n",
       "\n",
       "       primary_sector                              main_sector  Invest_count  \\\n",
       "5           Analytics  Social, Finance, Analytics, Advertising       2714.00   \n",
       "6                Apps               News, Search and Messaging       1583.00   \n",
       "28  Service Providers                                   Others       2950.00   \n",
       "31      Manufacturing                            Manufacturing        799.00   \n",
       "32      Manufacturing                            Manufacturing        799.00   \n",
       "\n",
       "    Invest_amount  \n",
       "5  23807376964.00  \n",
       "6  13971567428.00  \n",
       "28 26321007002.00  \n",
       "31  7258553378.00  \n",
       "32  7258553378.00  "
      ]
     },
     "execution_count": 53,
     "metadata": {},
     "output_type": "execute_result"
    }
   ],
   "source": [
    "D1.head()"
   ]
  },
  {
   "cell_type": "code",
   "execution_count": 54,
   "metadata": {},
   "outputs": [
    {
     "data": {
      "text/plain": [
       "12063"
      ]
     },
     "execution_count": 54,
     "metadata": {},
     "output_type": "execute_result"
    }
   ],
   "source": [
    "#Count of Total number of Investments-USA\n",
    "D1.raised_amount_usd.count()"
   ]
  },
  {
   "cell_type": "code",
   "execution_count": 55,
   "metadata": {},
   "outputs": [
    {
     "data": {
      "text/plain": [
       "107757097294.0"
      ]
     },
     "execution_count": 55,
     "metadata": {},
     "output_type": "execute_result"
    }
   ],
   "source": [
    "#Total amount of investment (USD)-USA\n",
    "D1.raised_amount_usd.sum()"
   ]
  },
  {
   "cell_type": "code",
   "execution_count": 56,
   "metadata": {},
   "outputs": [
    {
     "data": {
      "text/plain": [
       "main_sector\n",
       "Others                                     [2950.0]\n",
       "Social, Finance, Analytics, Advertising    [2714.0]\n",
       "Cleantech / Semiconductors                 [2350.0]\n",
       "News, Search and Messaging                 [1583.0]\n",
       "Health                                      [909.0]\n",
       "Manufacturing                               [799.0]\n",
       "Entertainment                               [591.0]\n",
       "Automotive & Sports                         [167.0]\n",
       "Name: Invest_count, dtype: object"
      ]
     },
     "execution_count": 56,
     "metadata": {},
     "output_type": "execute_result"
    }
   ],
   "source": [
    "#Top Sectors name (no. of investment-wise)-USA\n",
    "D1.Invest_count.groupby(D1.main_sector).unique().sort_values(ascending=False)"
   ]
  },
  {
   "cell_type": "code",
   "execution_count": 57,
   "metadata": {},
   "outputs": [
    {
     "data": {
      "text/plain": [
       "company_permalink\n",
       "/organization/virtustream           64300000.00\n",
       "/organization/capella               54968051.00\n",
       "/organization/airtight-networks     54201907.00\n",
       "/organization/decarta               52100000.00\n",
       "/organization/black-duck-software   51000000.00\n",
       "                                        ...    \n",
       "/organization/capton                 5000000.00\n",
       "/organization/capital-teas           5000000.00\n",
       "/organization/campus-quad            5000000.00\n",
       "/organization/campus-explorer        5000000.00\n",
       "/organization/netqos                 5000000.00\n",
       "Name: raised_amount_usd, Length: 2049, dtype: float64"
      ]
     },
     "execution_count": 57,
     "metadata": {},
     "output_type": "execute_result"
    }
   ],
   "source": [
    "#Highly invested Company in the Top Sector(Others)-USA\n",
    "D1[D1.main_sector==\"Others\"].groupby(D1.company_permalink).raised_amount_usd.sum().sort_values(ascending=False)"
   ]
  },
  {
   "cell_type": "code",
   "execution_count": 58,
   "metadata": {},
   "outputs": [
    {
     "data": {
      "text/plain": [
       "company_permalink\n",
       "/organization/shotspotter        67933006.00\n",
       "/organization/demandbase         63000000.00\n",
       "/organization/intacct            61800000.00\n",
       "/organization/netbase            60600000.00\n",
       "/organization/lotame             59700000.00\n",
       "                                     ...    \n",
       "/organization/logi-analytics      5000000.00\n",
       "/organization/smartturn           5000000.00\n",
       "/organization/fractal-sciences    5000000.00\n",
       "/organization/amtec-lcc           5000000.00\n",
       "/organization/initiate-systems    5000000.00\n",
       "Name: raised_amount_usd, Length: 1847, dtype: float64"
      ]
     },
     "execution_count": 58,
     "metadata": {},
     "output_type": "execute_result"
    }
   ],
   "source": [
    "#Highly invested Company in the 2nd Top Sector(Social, Finance, Analytics, Advertising)-USA\n",
    "D1[D1.main_sector==\"Social, Finance, Analytics, Advertising\"].groupby(D1.company_permalink).raised_amount_usd.sum().sort_values(ascending=False)"
   ]
  },
  {
   "cell_type": "markdown",
   "metadata": {},
   "source": [
    "#### Sector-wise Analysis of GBR(D2)"
   ]
  },
  {
   "cell_type": "code",
   "execution_count": 59,
   "metadata": {},
   "outputs": [
    {
     "data": {
      "text/html": [
       "<div>\n",
       "<style scoped>\n",
       "    .dataframe tbody tr th:only-of-type {\n",
       "        vertical-align: middle;\n",
       "    }\n",
       "\n",
       "    .dataframe tbody tr th {\n",
       "        vertical-align: top;\n",
       "    }\n",
       "\n",
       "    .dataframe thead th {\n",
       "        text-align: right;\n",
       "    }\n",
       "</style>\n",
       "<table border=\"1\" class=\"dataframe\">\n",
       "  <thead>\n",
       "    <tr style=\"text-align: right;\">\n",
       "      <th></th>\n",
       "      <th>company_permalink</th>\n",
       "      <th>funding_round_permalink</th>\n",
       "      <th>funding_round_type</th>\n",
       "      <th>funding_round_code</th>\n",
       "      <th>funded_at</th>\n",
       "      <th>raised_amount_usd</th>\n",
       "      <th>name</th>\n",
       "      <th>homepage_url</th>\n",
       "      <th>category_list</th>\n",
       "      <th>status</th>\n",
       "      <th>country_code</th>\n",
       "      <th>state_code</th>\n",
       "      <th>region</th>\n",
       "      <th>city</th>\n",
       "      <th>founded_at</th>\n",
       "      <th>primary_sector</th>\n",
       "      <th>main_sector</th>\n",
       "    </tr>\n",
       "  </thead>\n",
       "  <tbody>\n",
       "    <tr>\n",
       "      <th>7</th>\n",
       "      <td>/organization/10-minutes-with</td>\n",
       "      <td>/funding-round/0faccbbcc5818dc5326469f13f5a8ac8</td>\n",
       "      <td>venture</td>\n",
       "      <td>A</td>\n",
       "      <td>09-10-2014</td>\n",
       "      <td>4000000.00</td>\n",
       "      <td>10 Minutes With</td>\n",
       "      <td>http://10minuteswith.com</td>\n",
       "      <td>Education</td>\n",
       "      <td>operating</td>\n",
       "      <td>GBR</td>\n",
       "      <td>H9</td>\n",
       "      <td>London</td>\n",
       "      <td>London</td>\n",
       "      <td>01-01-2013</td>\n",
       "      <td>Education</td>\n",
       "      <td>Others</td>\n",
       "    </tr>\n",
       "    <tr>\n",
       "      <th>121</th>\n",
       "      <td>/organization/31dover</td>\n",
       "      <td>/funding-round/b95cb5a74632e596e19a845e405ef14b</td>\n",
       "      <td>venture</td>\n",
       "      <td>B</td>\n",
       "      <td>01-03-2014</td>\n",
       "      <td>2274716.00</td>\n",
       "      <td>31Dover</td>\n",
       "      <td>http://www.31dover.com</td>\n",
       "      <td>E-Commerce|Wine And Spirits</td>\n",
       "      <td>operating</td>\n",
       "      <td>GBR</td>\n",
       "      <td>H9</td>\n",
       "      <td>London</td>\n",
       "      <td>London</td>\n",
       "      <td>01-07-2012</td>\n",
       "      <td>E-Commerce</td>\n",
       "      <td>Others</td>\n",
       "    </tr>\n",
       "    <tr>\n",
       "      <th>135</th>\n",
       "      <td>/organization/365scores</td>\n",
       "      <td>/funding-round/48212f931f542fdef78810bc87aef086</td>\n",
       "      <td>venture</td>\n",
       "      <td>B</td>\n",
       "      <td>29-09-2014</td>\n",
       "      <td>5500000.00</td>\n",
       "      <td>365Scores</td>\n",
       "      <td>http://biz.365scores.com</td>\n",
       "      <td>Android|Apps|iPhone|Mobile|Sports</td>\n",
       "      <td>operating</td>\n",
       "      <td>GBR</td>\n",
       "      <td>H9</td>\n",
       "      <td>London</td>\n",
       "      <td>London</td>\n",
       "      <td>01-01-2008</td>\n",
       "      <td>Android</td>\n",
       "      <td>Social, Finance, Analytics, Advertising</td>\n",
       "    </tr>\n",
       "    <tr>\n",
       "      <th>136</th>\n",
       "      <td>/organization/365scores</td>\n",
       "      <td>/funding-round/493f78ea0ca33cfac48a57b2351b154b</td>\n",
       "      <td>venture</td>\n",
       "      <td>A</td>\n",
       "      <td>28-01-2013</td>\n",
       "      <td>1200000.00</td>\n",
       "      <td>365Scores</td>\n",
       "      <td>http://biz.365scores.com</td>\n",
       "      <td>Android|Apps|iPhone|Mobile|Sports</td>\n",
       "      <td>operating</td>\n",
       "      <td>GBR</td>\n",
       "      <td>H9</td>\n",
       "      <td>London</td>\n",
       "      <td>London</td>\n",
       "      <td>01-01-2008</td>\n",
       "      <td>Android</td>\n",
       "      <td>Social, Finance, Analytics, Advertising</td>\n",
       "    </tr>\n",
       "    <tr>\n",
       "      <th>194</th>\n",
       "      <td>/organization/3sun</td>\n",
       "      <td>/funding-round/f1d8c6491b45bcf2a35ef1cf5cae96c4</td>\n",
       "      <td>venture</td>\n",
       "      <td>NaN</td>\n",
       "      <td>03-03-2014</td>\n",
       "      <td>15152514.00</td>\n",
       "      <td>3sun</td>\n",
       "      <td>http://3sungroup.com</td>\n",
       "      <td>Clean Technology</td>\n",
       "      <td>operating</td>\n",
       "      <td>GBR</td>\n",
       "      <td>I9</td>\n",
       "      <td>NaN</td>\n",
       "      <td>NaN</td>\n",
       "      <td>01-01-2007</td>\n",
       "      <td>Clean Technology</td>\n",
       "      <td>Cleantech / Semiconductors</td>\n",
       "    </tr>\n",
       "  </tbody>\n",
       "</table>\n",
       "</div>"
      ],
      "text/plain": [
       "                 company_permalink  \\\n",
       "7    /organization/10-minutes-with   \n",
       "121          /organization/31dover   \n",
       "135        /organization/365scores   \n",
       "136        /organization/365scores   \n",
       "194             /organization/3sun   \n",
       "\n",
       "                             funding_round_permalink funding_round_type  \\\n",
       "7    /funding-round/0faccbbcc5818dc5326469f13f5a8ac8            venture   \n",
       "121  /funding-round/b95cb5a74632e596e19a845e405ef14b            venture   \n",
       "135  /funding-round/48212f931f542fdef78810bc87aef086            venture   \n",
       "136  /funding-round/493f78ea0ca33cfac48a57b2351b154b            venture   \n",
       "194  /funding-round/f1d8c6491b45bcf2a35ef1cf5cae96c4            venture   \n",
       "\n",
       "    funding_round_code   funded_at  raised_amount_usd             name  \\\n",
       "7                    A  09-10-2014         4000000.00  10 Minutes With   \n",
       "121                  B  01-03-2014         2274716.00          31Dover   \n",
       "135                  B  29-09-2014         5500000.00        365Scores   \n",
       "136                  A  28-01-2013         1200000.00        365Scores   \n",
       "194                NaN  03-03-2014        15152514.00             3sun   \n",
       "\n",
       "                 homepage_url                      category_list     status  \\\n",
       "7    http://10minuteswith.com                          Education  operating   \n",
       "121    http://www.31dover.com        E-Commerce|Wine And Spirits  operating   \n",
       "135  http://biz.365scores.com  Android|Apps|iPhone|Mobile|Sports  operating   \n",
       "136  http://biz.365scores.com  Android|Apps|iPhone|Mobile|Sports  operating   \n",
       "194      http://3sungroup.com                   Clean Technology  operating   \n",
       "\n",
       "    country_code state_code  region    city  founded_at    primary_sector  \\\n",
       "7            GBR         H9  London  London  01-01-2013         Education   \n",
       "121          GBR         H9  London  London  01-07-2012        E-Commerce   \n",
       "135          GBR         H9  London  London  01-01-2008           Android   \n",
       "136          GBR         H9  London  London  01-01-2008           Android   \n",
       "194          GBR         I9     NaN     NaN  01-01-2007  Clean Technology   \n",
       "\n",
       "                                 main_sector  \n",
       "7                                     Others  \n",
       "121                                   Others  \n",
       "135  Social, Finance, Analytics, Advertising  \n",
       "136  Social, Finance, Analytics, Advertising  \n",
       "194               Cleantech / Semiconductors  "
      ]
     },
     "execution_count": 59,
     "metadata": {},
     "output_type": "execute_result"
    }
   ],
   "source": [
    "D2.head()"
   ]
  },
  {
   "cell_type": "code",
   "execution_count": 60,
   "metadata": {},
   "outputs": [],
   "source": [
    "# Retaining values matching the condition of investment Amount range 5-15 M USD-GBR(United Kingdom)\n",
    "D2 = D2[(D2.raised_amount_usd >= 5000000) & (D2.raised_amount_usd <= 15000000)]"
   ]
  },
  {
   "cell_type": "code",
   "execution_count": 61,
   "metadata": {},
   "outputs": [],
   "source": [
    "#Invest_count column for count of Investments for each main sector-GBR(United Kingdom)\n",
    "D2['Invest_count']=D2.raised_amount_usd.groupby(D2.main_sector).transform(lambda x:x.count())"
   ]
  },
  {
   "cell_type": "code",
   "execution_count": 62,
   "metadata": {},
   "outputs": [],
   "source": [
    "#Invest_amount column for amount invested in each main sector-GBR(United Kingdom)\n",
    "D2['Invest_amount']=D2.raised_amount_usd.groupby(D2.main_sector).transform(lambda x:x.sum())"
   ]
  },
  {
   "cell_type": "code",
   "execution_count": 63,
   "metadata": {},
   "outputs": [
    {
     "data": {
      "text/html": [
       "<div>\n",
       "<style scoped>\n",
       "    .dataframe tbody tr th:only-of-type {\n",
       "        vertical-align: middle;\n",
       "    }\n",
       "\n",
       "    .dataframe tbody tr th {\n",
       "        vertical-align: top;\n",
       "    }\n",
       "\n",
       "    .dataframe thead th {\n",
       "        text-align: right;\n",
       "    }\n",
       "</style>\n",
       "<table border=\"1\" class=\"dataframe\">\n",
       "  <thead>\n",
       "    <tr style=\"text-align: right;\">\n",
       "      <th></th>\n",
       "      <th>company_permalink</th>\n",
       "      <th>funding_round_permalink</th>\n",
       "      <th>funding_round_type</th>\n",
       "      <th>funding_round_code</th>\n",
       "      <th>funded_at</th>\n",
       "      <th>raised_amount_usd</th>\n",
       "      <th>name</th>\n",
       "      <th>homepage_url</th>\n",
       "      <th>category_list</th>\n",
       "      <th>status</th>\n",
       "      <th>country_code</th>\n",
       "      <th>state_code</th>\n",
       "      <th>region</th>\n",
       "      <th>city</th>\n",
       "      <th>founded_at</th>\n",
       "      <th>primary_sector</th>\n",
       "      <th>main_sector</th>\n",
       "      <th>Invest_count</th>\n",
       "      <th>Invest_amount</th>\n",
       "    </tr>\n",
       "  </thead>\n",
       "  <tbody>\n",
       "    <tr>\n",
       "      <th>135</th>\n",
       "      <td>/organization/365scores</td>\n",
       "      <td>/funding-round/48212f931f542fdef78810bc87aef086</td>\n",
       "      <td>venture</td>\n",
       "      <td>B</td>\n",
       "      <td>29-09-2014</td>\n",
       "      <td>5500000.00</td>\n",
       "      <td>365Scores</td>\n",
       "      <td>http://biz.365scores.com</td>\n",
       "      <td>Android|Apps|iPhone|Mobile|Sports</td>\n",
       "      <td>operating</td>\n",
       "      <td>GBR</td>\n",
       "      <td>H9</td>\n",
       "      <td>London</td>\n",
       "      <td>London</td>\n",
       "      <td>01-01-2008</td>\n",
       "      <td>Android</td>\n",
       "      <td>Social, Finance, Analytics, Advertising</td>\n",
       "      <td>133.00</td>\n",
       "      <td>1089404014.00</td>\n",
       "    </tr>\n",
       "    <tr>\n",
       "      <th>310</th>\n",
       "      <td>/organization/7digital</td>\n",
       "      <td>/funding-round/b5ad7ed7baddd3974bd51403f17dd88f</td>\n",
       "      <td>venture</td>\n",
       "      <td>A</td>\n",
       "      <td>01-01-2008</td>\n",
       "      <td>8468328.00</td>\n",
       "      <td>7digital</td>\n",
       "      <td>http://about.7digital.com</td>\n",
       "      <td>Content Creators|Content Delivery|Licensing|Mu...</td>\n",
       "      <td>acquired</td>\n",
       "      <td>GBR</td>\n",
       "      <td>H9</td>\n",
       "      <td>London</td>\n",
       "      <td>London</td>\n",
       "      <td>01-01-2004</td>\n",
       "      <td>Content Creators</td>\n",
       "      <td>Entertainment</td>\n",
       "      <td>56.00</td>\n",
       "      <td>482784687.00</td>\n",
       "    </tr>\n",
       "    <tr>\n",
       "      <th>311</th>\n",
       "      <td>/organization/7digital</td>\n",
       "      <td>/funding-round/eafacfcceb1fbc4fd605f641b603313e</td>\n",
       "      <td>venture</td>\n",
       "      <td>NaN</td>\n",
       "      <td>19-10-2012</td>\n",
       "      <td>10000000.00</td>\n",
       "      <td>7digital</td>\n",
       "      <td>http://about.7digital.com</td>\n",
       "      <td>Content Creators|Content Delivery|Licensing|Mu...</td>\n",
       "      <td>acquired</td>\n",
       "      <td>GBR</td>\n",
       "      <td>H9</td>\n",
       "      <td>London</td>\n",
       "      <td>London</td>\n",
       "      <td>01-01-2004</td>\n",
       "      <td>Content Creators</td>\n",
       "      <td>Entertainment</td>\n",
       "      <td>56.00</td>\n",
       "      <td>482784687.00</td>\n",
       "    </tr>\n",
       "    <tr>\n",
       "      <th>336</th>\n",
       "      <td>/organization/90min</td>\n",
       "      <td>/funding-round/21a2cbf6f2fb2a1c2a61e04bf930dfe6</td>\n",
       "      <td>venture</td>\n",
       "      <td>NaN</td>\n",
       "      <td>06-10-2015</td>\n",
       "      <td>15000000.00</td>\n",
       "      <td>90min</td>\n",
       "      <td>http://www.90min.com</td>\n",
       "      <td>Media|News|Publishing|Soccer|Sports</td>\n",
       "      <td>operating</td>\n",
       "      <td>GBR</td>\n",
       "      <td>H9</td>\n",
       "      <td>London</td>\n",
       "      <td>London</td>\n",
       "      <td>01-01-2011</td>\n",
       "      <td>Media</td>\n",
       "      <td>Entertainment</td>\n",
       "      <td>56.00</td>\n",
       "      <td>482784687.00</td>\n",
       "    </tr>\n",
       "    <tr>\n",
       "      <th>337</th>\n",
       "      <td>/organization/90min</td>\n",
       "      <td>/funding-round/bd626ed022f5c66574b1afe234f3c90d</td>\n",
       "      <td>venture</td>\n",
       "      <td>NaN</td>\n",
       "      <td>07-05-2013</td>\n",
       "      <td>5800000.00</td>\n",
       "      <td>90min</td>\n",
       "      <td>http://www.90min.com</td>\n",
       "      <td>Media|News|Publishing|Soccer|Sports</td>\n",
       "      <td>operating</td>\n",
       "      <td>GBR</td>\n",
       "      <td>H9</td>\n",
       "      <td>London</td>\n",
       "      <td>London</td>\n",
       "      <td>01-01-2011</td>\n",
       "      <td>Media</td>\n",
       "      <td>Entertainment</td>\n",
       "      <td>56.00</td>\n",
       "      <td>482784687.00</td>\n",
       "    </tr>\n",
       "  </tbody>\n",
       "</table>\n",
       "</div>"
      ],
      "text/plain": [
       "           company_permalink                          funding_round_permalink  \\\n",
       "135  /organization/365scores  /funding-round/48212f931f542fdef78810bc87aef086   \n",
       "310   /organization/7digital  /funding-round/b5ad7ed7baddd3974bd51403f17dd88f   \n",
       "311   /organization/7digital  /funding-round/eafacfcceb1fbc4fd605f641b603313e   \n",
       "336      /organization/90min  /funding-round/21a2cbf6f2fb2a1c2a61e04bf930dfe6   \n",
       "337      /organization/90min  /funding-round/bd626ed022f5c66574b1afe234f3c90d   \n",
       "\n",
       "    funding_round_type funding_round_code   funded_at  raised_amount_usd  \\\n",
       "135            venture                  B  29-09-2014         5500000.00   \n",
       "310            venture                  A  01-01-2008         8468328.00   \n",
       "311            venture                NaN  19-10-2012        10000000.00   \n",
       "336            venture                NaN  06-10-2015        15000000.00   \n",
       "337            venture                NaN  07-05-2013         5800000.00   \n",
       "\n",
       "          name               homepage_url  \\\n",
       "135  365Scores   http://biz.365scores.com   \n",
       "310   7digital  http://about.7digital.com   \n",
       "311   7digital  http://about.7digital.com   \n",
       "336      90min       http://www.90min.com   \n",
       "337      90min       http://www.90min.com   \n",
       "\n",
       "                                         category_list     status  \\\n",
       "135                  Android|Apps|iPhone|Mobile|Sports  operating   \n",
       "310  Content Creators|Content Delivery|Licensing|Mu...   acquired   \n",
       "311  Content Creators|Content Delivery|Licensing|Mu...   acquired   \n",
       "336                Media|News|Publishing|Soccer|Sports  operating   \n",
       "337                Media|News|Publishing|Soccer|Sports  operating   \n",
       "\n",
       "    country_code state_code  region    city  founded_at    primary_sector  \\\n",
       "135          GBR         H9  London  London  01-01-2008           Android   \n",
       "310          GBR         H9  London  London  01-01-2004  Content Creators   \n",
       "311          GBR         H9  London  London  01-01-2004  Content Creators   \n",
       "336          GBR         H9  London  London  01-01-2011             Media   \n",
       "337          GBR         H9  London  London  01-01-2011             Media   \n",
       "\n",
       "                                 main_sector  Invest_count  Invest_amount  \n",
       "135  Social, Finance, Analytics, Advertising        133.00  1089404014.00  \n",
       "310                            Entertainment         56.00   482784687.00  \n",
       "311                            Entertainment         56.00   482784687.00  \n",
       "336                            Entertainment         56.00   482784687.00  \n",
       "337                            Entertainment         56.00   482784687.00  "
      ]
     },
     "execution_count": 63,
     "metadata": {},
     "output_type": "execute_result"
    }
   ],
   "source": [
    "D2.head()"
   ]
  },
  {
   "cell_type": "code",
   "execution_count": 64,
   "metadata": {},
   "outputs": [
    {
     "data": {
      "text/plain": [
       "621"
      ]
     },
     "execution_count": 64,
     "metadata": {},
     "output_type": "execute_result"
    }
   ],
   "source": [
    "#Count of Total number of Investments-GBR(United Kingdom)\n",
    "D2.raised_amount_usd.count()"
   ]
  },
  {
   "cell_type": "code",
   "execution_count": 65,
   "metadata": {},
   "outputs": [
    {
     "data": {
      "text/plain": [
       "5379078691.0"
      ]
     },
     "execution_count": 65,
     "metadata": {},
     "output_type": "execute_result"
    }
   ],
   "source": [
    "#Total amount of investment (USD)-GBR(United Kingdom)\n",
    "D2.raised_amount_usd.sum()"
   ]
  },
  {
   "cell_type": "code",
   "execution_count": 66,
   "metadata": {},
   "outputs": [
    {
     "data": {
      "text/plain": [
       "main_sector\n",
       "Others                                     [147.0]\n",
       "Social, Finance, Analytics, Advertising    [133.0]\n",
       "Cleantech / Semiconductors                 [130.0]\n",
       "News, Search and Messaging                  [73.0]\n",
       "Entertainment                               [56.0]\n",
       "Manufacturing                               [42.0]\n",
       "Health                                      [24.0]\n",
       "Automotive & Sports                         [16.0]\n",
       "Name: Invest_count, dtype: object"
      ]
     },
     "execution_count": 66,
     "metadata": {},
     "output_type": "execute_result"
    }
   ],
   "source": [
    "#Top Sectors name (no. of investment-wise)-GBR(United Kingdom)\n",
    "D2.Invest_count.groupby(D2.main_sector).unique().sort_values(ascending=False)"
   ]
  },
  {
   "cell_type": "code",
   "execution_count": 67,
   "metadata": {},
   "outputs": [
    {
     "data": {
      "text/plain": [
       "company_permalink\n",
       "/organization/electric-cloud            37000000.00\n",
       "/organization/sensage                   36250000.00\n",
       "/organization/enigmatic                 32500000.00\n",
       "/organization/silverrail-technologies   29000000.00\n",
       "/organization/opencloud                 27972766.00\n",
       "                                            ...    \n",
       "/organization/parcelgenie                5000000.00\n",
       "/organization/vector-watch               5000000.00\n",
       "/organization/thefilter                  5000000.00\n",
       "/organization/udex                       5000000.00\n",
       "/organization/bacula-systems             5000000.00\n",
       "Name: raised_amount_usd, Length: 120, dtype: float64"
      ]
     },
     "execution_count": 67,
     "metadata": {},
     "output_type": "execute_result"
    }
   ],
   "source": [
    "#Highly invested Company in the Top Sector(Others)-GBR(United Kingdom)\n",
    "D2[D2.main_sector==\"Others\"].groupby(D2.company_permalink).raised_amount_usd.sum().sort_values(ascending=False)"
   ]
  },
  {
   "cell_type": "code",
   "execution_count": 68,
   "metadata": {},
   "outputs": [
    {
     "data": {
      "text/plain": [
       "company_permalink\n",
       "/organization/celltick-technologies   37500000.00\n",
       "/organization/mythings                34000000.00\n",
       "/organization/zopa                    32900000.00\n",
       "/organization/imagini                 28550000.00\n",
       "/organization/marketinvoice           25553007.00\n",
       "                                          ...    \n",
       "/organization/moo                      5000000.00\n",
       "/organization/rangespan                5000000.00\n",
       "/organization/tamoco                   5000000.00\n",
       "/organization/the-fizzback-group       5000000.00\n",
       "/organization/duedil                   5000000.00\n",
       "Name: raised_amount_usd, Length: 104, dtype: float64"
      ]
     },
     "execution_count": 68,
     "metadata": {},
     "output_type": "execute_result"
    }
   ],
   "source": [
    "#Highly invested Company in the 2nd Top Sector(Social, Finance, Analytics, Advertising)-GBR(United Kingdom)\n",
    "D2[D2.main_sector==\"Social, Finance, Analytics, Advertising\"].groupby(D2.company_permalink).raised_amount_usd.sum().sort_values(ascending=False)"
   ]
  },
  {
   "cell_type": "markdown",
   "metadata": {},
   "source": [
    "#### Sector-wise Analysis of IND(D3)"
   ]
  },
  {
   "cell_type": "code",
   "execution_count": 69,
   "metadata": {},
   "outputs": [
    {
     "data": {
      "text/html": [
       "<div>\n",
       "<style scoped>\n",
       "    .dataframe tbody tr th:only-of-type {\n",
       "        vertical-align: middle;\n",
       "    }\n",
       "\n",
       "    .dataframe tbody tr th {\n",
       "        vertical-align: top;\n",
       "    }\n",
       "\n",
       "    .dataframe thead th {\n",
       "        text-align: right;\n",
       "    }\n",
       "</style>\n",
       "<table border=\"1\" class=\"dataframe\">\n",
       "  <thead>\n",
       "    <tr style=\"text-align: right;\">\n",
       "      <th></th>\n",
       "      <th>company_permalink</th>\n",
       "      <th>funding_round_permalink</th>\n",
       "      <th>funding_round_type</th>\n",
       "      <th>funding_round_code</th>\n",
       "      <th>funded_at</th>\n",
       "      <th>raised_amount_usd</th>\n",
       "      <th>name</th>\n",
       "      <th>homepage_url</th>\n",
       "      <th>category_list</th>\n",
       "      <th>status</th>\n",
       "      <th>country_code</th>\n",
       "      <th>state_code</th>\n",
       "      <th>region</th>\n",
       "      <th>city</th>\n",
       "      <th>founded_at</th>\n",
       "      <th>primary_sector</th>\n",
       "      <th>main_sector</th>\n",
       "    </tr>\n",
       "  </thead>\n",
       "  <tbody>\n",
       "    <tr>\n",
       "      <th>0</th>\n",
       "      <td>/organization/-fame</td>\n",
       "      <td>/funding-round/9a01d05418af9f794eebff7ace91f638</td>\n",
       "      <td>venture</td>\n",
       "      <td>B</td>\n",
       "      <td>05-01-2015</td>\n",
       "      <td>10000000.00</td>\n",
       "      <td>#fame</td>\n",
       "      <td>http://livfame.com</td>\n",
       "      <td>Media</td>\n",
       "      <td>operating</td>\n",
       "      <td>IND</td>\n",
       "      <td>16</td>\n",
       "      <td>Mumbai</td>\n",
       "      <td>Mumbai</td>\n",
       "      <td>NaN</td>\n",
       "      <td>Media</td>\n",
       "      <td>Entertainment</td>\n",
       "    </tr>\n",
       "    <tr>\n",
       "      <th>74</th>\n",
       "      <td>/organization/21diamonds-india</td>\n",
       "      <td>/funding-round/6de7ffef8091ba9f33821f4b861f434a</td>\n",
       "      <td>venture</td>\n",
       "      <td>C</td>\n",
       "      <td>15-11-2012</td>\n",
       "      <td>6369507.00</td>\n",
       "      <td>21Diamonds</td>\n",
       "      <td>http://www.21diamonds.de</td>\n",
       "      <td>E-Commerce</td>\n",
       "      <td>operating</td>\n",
       "      <td>IND</td>\n",
       "      <td>10</td>\n",
       "      <td>New Delhi</td>\n",
       "      <td>Gurgaon</td>\n",
       "      <td>01-06-2012</td>\n",
       "      <td>E-Commerce</td>\n",
       "      <td>Others</td>\n",
       "    </tr>\n",
       "    <tr>\n",
       "      <th>88</th>\n",
       "      <td>/organization/247-learning-private</td>\n",
       "      <td>/funding-round/4cd5cd165bc869bc40705a9e4b626bee</td>\n",
       "      <td>venture</td>\n",
       "      <td>NaN</td>\n",
       "      <td>06-11-2007</td>\n",
       "      <td>4000000.00</td>\n",
       "      <td>24x7 Learning</td>\n",
       "      <td>http://www.24x7learning.com</td>\n",
       "      <td>EdTech|Education|Systems</td>\n",
       "      <td>operating</td>\n",
       "      <td>IND</td>\n",
       "      <td>19</td>\n",
       "      <td>Bangalore</td>\n",
       "      <td>Bangalore</td>\n",
       "      <td>01-01-2001</td>\n",
       "      <td>EdTech</td>\n",
       "      <td>Others</td>\n",
       "    </tr>\n",
       "    <tr>\n",
       "      <th>166</th>\n",
       "      <td>/organization/3dsoc</td>\n",
       "      <td>/funding-round/bbedf1410fddeed341018583bbd0ca1e</td>\n",
       "      <td>venture</td>\n",
       "      <td>A</td>\n",
       "      <td>01-12-2007</td>\n",
       "      <td>1240000.00</td>\n",
       "      <td>3DSoC</td>\n",
       "      <td>http://www.3dsoc.com</td>\n",
       "      <td>3D|Mobile</td>\n",
       "      <td>operating</td>\n",
       "      <td>IND</td>\n",
       "      <td>19</td>\n",
       "      <td>Bangalore</td>\n",
       "      <td>Bangalore</td>\n",
       "      <td>01-06-2006</td>\n",
       "      <td>3D</td>\n",
       "      <td>Manufacturing</td>\n",
       "    </tr>\n",
       "    <tr>\n",
       "      <th>167</th>\n",
       "      <td>/organization/3dsoc</td>\n",
       "      <td>/funding-round/da8918e533a7caf0df0dc8d3f506c0f8</td>\n",
       "      <td>venture</td>\n",
       "      <td>B</td>\n",
       "      <td>01-08-2010</td>\n",
       "      <td>825000.00</td>\n",
       "      <td>3DSoC</td>\n",
       "      <td>http://www.3dsoc.com</td>\n",
       "      <td>3D|Mobile</td>\n",
       "      <td>operating</td>\n",
       "      <td>IND</td>\n",
       "      <td>19</td>\n",
       "      <td>Bangalore</td>\n",
       "      <td>Bangalore</td>\n",
       "      <td>01-06-2006</td>\n",
       "      <td>3D</td>\n",
       "      <td>Manufacturing</td>\n",
       "    </tr>\n",
       "  </tbody>\n",
       "</table>\n",
       "</div>"
      ],
      "text/plain": [
       "                      company_permalink  \\\n",
       "0                   /organization/-fame   \n",
       "74       /organization/21diamonds-india   \n",
       "88   /organization/247-learning-private   \n",
       "166                 /organization/3dsoc   \n",
       "167                 /organization/3dsoc   \n",
       "\n",
       "                             funding_round_permalink funding_round_type  \\\n",
       "0    /funding-round/9a01d05418af9f794eebff7ace91f638            venture   \n",
       "74   /funding-round/6de7ffef8091ba9f33821f4b861f434a            venture   \n",
       "88   /funding-round/4cd5cd165bc869bc40705a9e4b626bee            venture   \n",
       "166  /funding-round/bbedf1410fddeed341018583bbd0ca1e            venture   \n",
       "167  /funding-round/da8918e533a7caf0df0dc8d3f506c0f8            venture   \n",
       "\n",
       "    funding_round_code   funded_at  raised_amount_usd           name  \\\n",
       "0                    B  05-01-2015        10000000.00          #fame   \n",
       "74                   C  15-11-2012         6369507.00     21Diamonds   \n",
       "88                 NaN  06-11-2007         4000000.00  24x7 Learning   \n",
       "166                  A  01-12-2007         1240000.00          3DSoC   \n",
       "167                  B  01-08-2010          825000.00          3DSoC   \n",
       "\n",
       "                    homepage_url             category_list     status  \\\n",
       "0             http://livfame.com                     Media  operating   \n",
       "74      http://www.21diamonds.de                E-Commerce  operating   \n",
       "88   http://www.24x7learning.com  EdTech|Education|Systems  operating   \n",
       "166         http://www.3dsoc.com                 3D|Mobile  operating   \n",
       "167         http://www.3dsoc.com                 3D|Mobile  operating   \n",
       "\n",
       "    country_code state_code     region       city  founded_at primary_sector  \\\n",
       "0            IND         16     Mumbai     Mumbai         NaN          Media   \n",
       "74           IND         10  New Delhi    Gurgaon  01-06-2012     E-Commerce   \n",
       "88           IND         19  Bangalore  Bangalore  01-01-2001         EdTech   \n",
       "166          IND         19  Bangalore  Bangalore  01-06-2006             3D   \n",
       "167          IND         19  Bangalore  Bangalore  01-06-2006             3D   \n",
       "\n",
       "       main_sector  \n",
       "0    Entertainment  \n",
       "74          Others  \n",
       "88          Others  \n",
       "166  Manufacturing  \n",
       "167  Manufacturing  "
      ]
     },
     "execution_count": 69,
     "metadata": {},
     "output_type": "execute_result"
    }
   ],
   "source": [
    "D3.head()"
   ]
  },
  {
   "cell_type": "code",
   "execution_count": 70,
   "metadata": {},
   "outputs": [],
   "source": [
    "# Retaining values matching the condition of investment Amount range 5-15 M USD-IND\n",
    "D3 = D3[(D3.raised_amount_usd >= 5000000) & (D3.raised_amount_usd <= 15000000)]"
   ]
  },
  {
   "cell_type": "code",
   "execution_count": 71,
   "metadata": {},
   "outputs": [],
   "source": [
    "#Invest_count column for count of Investments for each main sector-IND\n",
    "D3['Invest_count']=D3.raised_amount_usd.groupby(D3.main_sector).transform(lambda x:x.count())"
   ]
  },
  {
   "cell_type": "code",
   "execution_count": 72,
   "metadata": {},
   "outputs": [],
   "source": [
    "#Invest_amount column for amount invested in each main sector-IND\n",
    "D3['Invest_amount']=D3.raised_amount_usd.groupby(D3.main_sector).transform(lambda x:x.sum())"
   ]
  },
  {
   "cell_type": "code",
   "execution_count": 73,
   "metadata": {},
   "outputs": [
    {
     "data": {
      "text/html": [
       "<div>\n",
       "<style scoped>\n",
       "    .dataframe tbody tr th:only-of-type {\n",
       "        vertical-align: middle;\n",
       "    }\n",
       "\n",
       "    .dataframe tbody tr th {\n",
       "        vertical-align: top;\n",
       "    }\n",
       "\n",
       "    .dataframe thead th {\n",
       "        text-align: right;\n",
       "    }\n",
       "</style>\n",
       "<table border=\"1\" class=\"dataframe\">\n",
       "  <thead>\n",
       "    <tr style=\"text-align: right;\">\n",
       "      <th></th>\n",
       "      <th>company_permalink</th>\n",
       "      <th>funding_round_permalink</th>\n",
       "      <th>funding_round_type</th>\n",
       "      <th>funding_round_code</th>\n",
       "      <th>funded_at</th>\n",
       "      <th>raised_amount_usd</th>\n",
       "      <th>name</th>\n",
       "      <th>homepage_url</th>\n",
       "      <th>category_list</th>\n",
       "      <th>status</th>\n",
       "      <th>country_code</th>\n",
       "      <th>state_code</th>\n",
       "      <th>region</th>\n",
       "      <th>city</th>\n",
       "      <th>founded_at</th>\n",
       "      <th>primary_sector</th>\n",
       "      <th>main_sector</th>\n",
       "      <th>Invest_count</th>\n",
       "      <th>Invest_amount</th>\n",
       "    </tr>\n",
       "  </thead>\n",
       "  <tbody>\n",
       "    <tr>\n",
       "      <th>0</th>\n",
       "      <td>/organization/-fame</td>\n",
       "      <td>/funding-round/9a01d05418af9f794eebff7ace91f638</td>\n",
       "      <td>venture</td>\n",
       "      <td>B</td>\n",
       "      <td>05-01-2015</td>\n",
       "      <td>10000000.00</td>\n",
       "      <td>#fame</td>\n",
       "      <td>http://livfame.com</td>\n",
       "      <td>Media</td>\n",
       "      <td>operating</td>\n",
       "      <td>IND</td>\n",
       "      <td>16</td>\n",
       "      <td>Mumbai</td>\n",
       "      <td>Mumbai</td>\n",
       "      <td>NaN</td>\n",
       "      <td>Media</td>\n",
       "      <td>Entertainment</td>\n",
       "      <td>33.00</td>\n",
       "      <td>280830000.00</td>\n",
       "    </tr>\n",
       "    <tr>\n",
       "      <th>74</th>\n",
       "      <td>/organization/21diamonds-india</td>\n",
       "      <td>/funding-round/6de7ffef8091ba9f33821f4b861f434a</td>\n",
       "      <td>venture</td>\n",
       "      <td>C</td>\n",
       "      <td>15-11-2012</td>\n",
       "      <td>6369507.00</td>\n",
       "      <td>21Diamonds</td>\n",
       "      <td>http://www.21diamonds.de</td>\n",
       "      <td>E-Commerce</td>\n",
       "      <td>operating</td>\n",
       "      <td>IND</td>\n",
       "      <td>10</td>\n",
       "      <td>New Delhi</td>\n",
       "      <td>Gurgaon</td>\n",
       "      <td>01-06-2012</td>\n",
       "      <td>E-Commerce</td>\n",
       "      <td>Others</td>\n",
       "      <td>110.00</td>\n",
       "      <td>1013409507.00</td>\n",
       "    </tr>\n",
       "    <tr>\n",
       "      <th>367</th>\n",
       "      <td>/organization/a-little-world</td>\n",
       "      <td>/funding-round/18d98f82ed392b1609975b81f3e8b3fb</td>\n",
       "      <td>venture</td>\n",
       "      <td>B</td>\n",
       "      <td>09-09-2008</td>\n",
       "      <td>6410000.00</td>\n",
       "      <td>A LITTLE WORLD</td>\n",
       "      <td>http://alittleworld.com</td>\n",
       "      <td>Finance</td>\n",
       "      <td>operating</td>\n",
       "      <td>IND</td>\n",
       "      <td>16</td>\n",
       "      <td>Mumbai</td>\n",
       "      <td>Mumbai</td>\n",
       "      <td>02-03-2000</td>\n",
       "      <td>Finance</td>\n",
       "      <td>Social, Finance, Analytics, Advertising</td>\n",
       "      <td>60.00</td>\n",
       "      <td>550549550.00</td>\n",
       "    </tr>\n",
       "    <tr>\n",
       "      <th>1066</th>\n",
       "      <td>/organization/adlabs-imagica</td>\n",
       "      <td>/funding-round/508d3c83daaae9fda3ba6f9682c78f6c</td>\n",
       "      <td>venture</td>\n",
       "      <td>NaN</td>\n",
       "      <td>28-10-2014</td>\n",
       "      <td>8180000.00</td>\n",
       "      <td>Adlabs Imagica</td>\n",
       "      <td>http://www.adlabsimagica.com</td>\n",
       "      <td>Entertainment|Tourism</td>\n",
       "      <td>operating</td>\n",
       "      <td>IND</td>\n",
       "      <td>16</td>\n",
       "      <td>IND - Other</td>\n",
       "      <td>Khopoli</td>\n",
       "      <td>NaN</td>\n",
       "      <td>Entertainment</td>\n",
       "      <td>Entertainment</td>\n",
       "      <td>33.00</td>\n",
       "      <td>280830000.00</td>\n",
       "    </tr>\n",
       "    <tr>\n",
       "      <th>1448</th>\n",
       "      <td>/organization/agile</td>\n",
       "      <td>/funding-round/cd3dd1c98ce9d0f632d8752163941674</td>\n",
       "      <td>venture</td>\n",
       "      <td>A</td>\n",
       "      <td>01-05-2011</td>\n",
       "      <td>5740000.00</td>\n",
       "      <td>Agile</td>\n",
       "      <td>http://www.agile-ft.com</td>\n",
       "      <td>Finance|Finance Technology|FinTech|Insurance</td>\n",
       "      <td>operating</td>\n",
       "      <td>IND</td>\n",
       "      <td>16</td>\n",
       "      <td>Mumbai</td>\n",
       "      <td>Mumbai</td>\n",
       "      <td>NaN</td>\n",
       "      <td>Finance</td>\n",
       "      <td>Social, Finance, Analytics, Advertising</td>\n",
       "      <td>60.00</td>\n",
       "      <td>550549550.00</td>\n",
       "    </tr>\n",
       "  </tbody>\n",
       "</table>\n",
       "</div>"
      ],
      "text/plain": [
       "                   company_permalink  \\\n",
       "0                /organization/-fame   \n",
       "74    /organization/21diamonds-india   \n",
       "367     /organization/a-little-world   \n",
       "1066    /organization/adlabs-imagica   \n",
       "1448             /organization/agile   \n",
       "\n",
       "                              funding_round_permalink funding_round_type  \\\n",
       "0     /funding-round/9a01d05418af9f794eebff7ace91f638            venture   \n",
       "74    /funding-round/6de7ffef8091ba9f33821f4b861f434a            venture   \n",
       "367   /funding-round/18d98f82ed392b1609975b81f3e8b3fb            venture   \n",
       "1066  /funding-round/508d3c83daaae9fda3ba6f9682c78f6c            venture   \n",
       "1448  /funding-round/cd3dd1c98ce9d0f632d8752163941674            venture   \n",
       "\n",
       "     funding_round_code   funded_at  raised_amount_usd            name  \\\n",
       "0                     B  05-01-2015        10000000.00           #fame   \n",
       "74                    C  15-11-2012         6369507.00      21Diamonds   \n",
       "367                   B  09-09-2008         6410000.00  A LITTLE WORLD   \n",
       "1066                NaN  28-10-2014         8180000.00  Adlabs Imagica   \n",
       "1448                  A  01-05-2011         5740000.00           Agile   \n",
       "\n",
       "                      homepage_url  \\\n",
       "0               http://livfame.com   \n",
       "74        http://www.21diamonds.de   \n",
       "367        http://alittleworld.com   \n",
       "1066  http://www.adlabsimagica.com   \n",
       "1448       http://www.agile-ft.com   \n",
       "\n",
       "                                     category_list     status country_code  \\\n",
       "0                                            Media  operating          IND   \n",
       "74                                      E-Commerce  operating          IND   \n",
       "367                                        Finance  operating          IND   \n",
       "1066                         Entertainment|Tourism  operating          IND   \n",
       "1448  Finance|Finance Technology|FinTech|Insurance  operating          IND   \n",
       "\n",
       "     state_code       region     city  founded_at primary_sector  \\\n",
       "0            16       Mumbai   Mumbai         NaN          Media   \n",
       "74           10    New Delhi  Gurgaon  01-06-2012     E-Commerce   \n",
       "367          16       Mumbai   Mumbai  02-03-2000        Finance   \n",
       "1066         16  IND - Other  Khopoli         NaN  Entertainment   \n",
       "1448         16       Mumbai   Mumbai         NaN        Finance   \n",
       "\n",
       "                                  main_sector  Invest_count  Invest_amount  \n",
       "0                               Entertainment         33.00   280830000.00  \n",
       "74                                     Others        110.00  1013409507.00  \n",
       "367   Social, Finance, Analytics, Advertising         60.00   550549550.00  \n",
       "1066                            Entertainment         33.00   280830000.00  \n",
       "1448  Social, Finance, Analytics, Advertising         60.00   550549550.00  "
      ]
     },
     "execution_count": 73,
     "metadata": {},
     "output_type": "execute_result"
    }
   ],
   "source": [
    "D3.head()"
   ]
  },
  {
   "cell_type": "code",
   "execution_count": 74,
   "metadata": {},
   "outputs": [
    {
     "data": {
      "text/plain": [
       "328"
      ]
     },
     "execution_count": 74,
     "metadata": {},
     "output_type": "execute_result"
    }
   ],
   "source": [
    "#Count of Total number of Investments-IND\n",
    "D3.raised_amount_usd.count()"
   ]
  },
  {
   "cell_type": "code",
   "execution_count": 75,
   "metadata": {},
   "outputs": [
    {
     "data": {
      "text/plain": [
       "2949543602.0"
      ]
     },
     "execution_count": 75,
     "metadata": {},
     "output_type": "execute_result"
    }
   ],
   "source": [
    "#Total amount of investment (USD)-IND\n",
    "D3.raised_amount_usd.sum()"
   ]
  },
  {
   "cell_type": "code",
   "execution_count": 76,
   "metadata": {},
   "outputs": [
    {
     "data": {
      "text/plain": [
       "main_sector\n",
       "Others                                     [110.0]\n",
       "Social, Finance, Analytics, Advertising     [60.0]\n",
       "News, Search and Messaging                  [52.0]\n",
       "Entertainment                               [33.0]\n",
       "Manufacturing                               [21.0]\n",
       "Cleantech / Semiconductors                  [20.0]\n",
       "Health                                      [19.0]\n",
       "Automotive & Sports                         [13.0]\n",
       "Name: Invest_count, dtype: object"
      ]
     },
     "execution_count": 76,
     "metadata": {},
     "output_type": "execute_result"
    }
   ],
   "source": [
    "#Top Sectors name (no. of investment-wise)-IND\n",
    "D3.Invest_count.groupby(D3.main_sector).unique().sort_values(ascending=False)"
   ]
  },
  {
   "cell_type": "code",
   "execution_count": 77,
   "metadata": {},
   "outputs": [
    {
     "data": {
      "text/plain": [
       "company_permalink\n",
       "/organization/firstcry-com          39000000.00\n",
       "/organization/myntra                38000000.00\n",
       "/organization/commonfloor           32900000.00\n",
       "/organization/pepperfry-com         28000000.00\n",
       "/organization/itzcash-card-ltd      25000000.00\n",
       "                                        ...    \n",
       "/organization/reznext                5000000.00\n",
       "/organization/voonik-com             5000000.00\n",
       "/organization/vedantu-innovations    5000000.00\n",
       "/organization/securens               5000000.00\n",
       "/organization/liases-foras           5000000.00\n",
       "Name: raised_amount_usd, Length: 88, dtype: float64"
      ]
     },
     "execution_count": 77,
     "metadata": {},
     "output_type": "execute_result"
    }
   ],
   "source": [
    "#Highly invested Company in the Top Sector(Others)-IND\n",
    "D3[D3.main_sector==\"Others\"].groupby(D3.company_permalink).raised_amount_usd.sum().sort_values(ascending=False)"
   ]
  },
  {
   "cell_type": "code",
   "execution_count": 78,
   "metadata": {},
   "outputs": [
    {
     "data": {
      "text/plain": [
       "company_permalink\n",
       "/organization/manthan-systems                                50700000.00\n",
       "/organization/komli-media                                    28000000.00\n",
       "/organization/shopclues-com                                  25000000.00\n",
       "/organization/intarvo                                        21900000.00\n",
       "/organization/grameen-financial-services                     21556050.00\n",
       "/organization/bankbazaar                                     19000000.00\n",
       "/organization/microland                                      18300000.00\n",
       "/organization/eka-software-solutions                         16000000.00\n",
       "/organization/qyuki                                          15400000.00\n",
       "/organization/financial-information-network-operations-pvt   15000000.00\n",
       "/organization/travelguru                                     15000000.00\n",
       "/organization/shiram-credit                                  15000000.00\n",
       "/organization/apnaloan                                       15000000.00\n",
       "/organization/capital-float                                  13000000.00\n",
       "/organization/yepme-com                                      12700000.00\n",
       "/organization/coverfox-insurance-broking                     12000000.00\n",
       "/organization/funds-india                                    11000000.00\n",
       "/organization/emergent-ventures-india                        10040000.00\n",
       "/organization/loginext-solutions                             10000000.00\n",
       "/organization/lendingkart                                    10000000.00\n",
       "/organization/network18                                      10000000.00\n",
       "/organization/excellence4u                                   10000000.00\n",
       "/organization/unicommerce                                    10000000.00\n",
       "/organization/razorpay                                        9000000.00\n",
       "/organization/industrybuying                                  9000000.00\n",
       "/organization/vizury                                          9000000.00\n",
       "/organization/fusion-microfinance                             8300000.00\n",
       "/organization/shubham-housing-development-finance-company     8000000.00\n",
       "/organization/spire-technologies                              8000000.00\n",
       "/organization/prizm-payment-services                          8000000.00\n",
       "/organization/indiaideas                                      7500000.00\n",
       "/organization/epiance                                         7500000.00\n",
       "/organization/crmnext                                         7003500.00\n",
       "/organization/neogrowth                                       7000000.00\n",
       "/organization/minglebox                                       7000000.00\n",
       "/organization/a-little-world                                  6410000.00\n",
       "/organization/daksh-infosoft                                  6000000.00\n",
       "/organization/furlenco                                        6000000.00\n",
       "/organization/agile                                           5740000.00\n",
       "/organization/ebs-worldwide-services                          5500000.00\n",
       "/organization/eko-india-financial-services                    5500000.00\n",
       "/organization/amagi-media-labs                                5500000.00\n",
       "/organization/innoviti                                        5000000.00\n",
       "/organization/authorstream                                    5000000.00\n",
       "/organization/policybazaar                                    5000000.00\n",
       "/organization/annapurna-microfinace                           5000000.00\n",
       "/organization/akosha                                          5000000.00\n",
       "/organization/ideacts-innovations                             5000000.00\n",
       "Name: raised_amount_usd, dtype: float64"
      ]
     },
     "execution_count": 78,
     "metadata": {},
     "output_type": "execute_result"
    }
   ],
   "source": [
    "#Highly invested Company in the 2nd Top Sector(Social, Finance, Analytics, Advertising)-IND\n",
    "D3[D3.main_sector==\"Social, Finance, Analytics, Advertising\"].groupby(D3.company_permalink).raised_amount_usd.sum().sort_values(ascending=False)"
   ]
  },
  {
   "cell_type": "markdown",
   "metadata": {},
   "source": [
    "# Checkpoint6: Plots"
   ]
  },
  {
   "cell_type": "code",
   "execution_count": 87,
   "metadata": {},
   "outputs": [
    {
     "data": {
      "image/png": "[encoded data removed]",
      "text/plain": [
       "<Figure size 720x432 with 1 Axes>"
      ]
     },
     "metadata": {},
     "output_type": "display_data"
    },
    {
     "data": {
      "image/png": "[encoded data removed]",
      "text/plain": [
       "<Figure size 720x432 with 1 Axes>"
      ]
     },
     "metadata": {},
     "output_type": "display_data"
    }
   ],
   "source": [
    "#plot showing the fraction of Total/Average investments (globally) in angel, venture, seed, and private equity.\n",
    "\n",
    "#Total Number of Investments\n",
    "plt.figure(figsize=(10,6))\n",
    "plot1=sns.countplot(x=\"funding_round_type\", data=master_frame)\n",
    "plt.title(\"Total Number of Investments\",fontsize=20)\n",
    "plt.show()\n",
    "\n",
    "\n",
    "\n",
    "#Average Investment Amount\n",
    "plt.figure(figsize=(10,6))\n",
    "plot2=sns.barplot(x=\"funding_round_type\",y=\"raised_amount_usd\", data=master_frame,estimator=np.mean)\n",
    "plt.axhline(y=5000000,color = 'red')\n",
    "plt.axhline(y=15000000,color = 'blue')\n",
    "plt.title(\"Average Investment Amount\",fontsize=20)\n",
    "plt.show()"
   ]
  },
  {
   "cell_type": "markdown",
   "metadata": {},
   "source": [
    "### It is clear from Average Investment Amount plot that Venture funding type is most suitable as it is with the range 5-15 M USD"
   ]
  },
  {
   "cell_type": "code",
   "execution_count": 88,
   "metadata": {},
   "outputs": [
    {
     "data": {
      "image/png": "[encoded data removed]",
      "text/plain": [
       "<Figure size 1080x720 with 1 Axes>"
      ]
     },
     "metadata": {},
     "output_type": "display_data"
    }
   ],
   "source": [
    "#plot showing the top 9 countries against the total amount of investments of funding type Venture(top DF consists of only Venture as funding type)\n",
    "plt.figure(figsize=(15,10))\n",
    "plot3=sns.barplot(x='country_code', y='raised_amount_usd' ,data=top9, estimator=sum)\n",
    "plot3.set_yscale('log')\n",
    "plt.title(\"Top9 Country Analysis\",fontsize=20)\n",
    "plt.show()"
   ]
  },
  {
   "cell_type": "markdown",
   "metadata": {},
   "source": [
    "### Creating DF top3 to store data for Top 3 sectors for the Top 3 countries(USA,GBR,IND)"
   ]
  },
  {
   "cell_type": "code",
   "execution_count": 89,
   "metadata": {},
   "outputs": [],
   "source": [
    "top3=D1[D1['main_sector'].isin(['Others','Social, Finance, Analytics, Advertising','Cleantech / Semiconductors'])]"
   ]
  },
  {
   "cell_type": "code",
   "execution_count": 90,
   "metadata": {},
   "outputs": [],
   "source": [
    "top3=top3.append((D2[D2['main_sector'].isin(['Others','Social, Finance, Analytics, Advertising','Cleantech / Semiconductors'])]),ignore_index=True)"
   ]
  },
  {
   "cell_type": "code",
   "execution_count": 91,
   "metadata": {},
   "outputs": [],
   "source": [
    "top3=top3.append((D3[D3['main_sector'].isin(['Others','Social, Finance, Analytics, Advertising','News, Search and Messaging'])]),ignore_index=True)"
   ]
  },
  {
   "cell_type": "code",
   "execution_count": 92,
   "metadata": {},
   "outputs": [
    {
     "data": {
      "text/plain": [
       "(8646, 19)"
      ]
     },
     "execution_count": 92,
     "metadata": {},
     "output_type": "execute_result"
    }
   ],
   "source": [
    "top3.shape"
   ]
  },
  {
   "cell_type": "code",
   "execution_count": 93,
   "metadata": {},
   "outputs": [
    {
     "data": {
      "image/png": "[encoded data removed]",
      "text/plain": [
       "<Figure size 1080x720 with 1 Axes>"
      ]
     },
     "metadata": {},
     "output_type": "display_data"
    }
   ],
   "source": [
    "#plot showing the number of investments in the top 3 sectors of the top 3 countries for funding type Venture\n",
    "plt.figure(figsize=(15,10))\n",
    "sns.set_style('darkgrid')\n",
    "plot4=sns.barplot(x='country_code', y='raised_amount_usd', hue=\"main_sector\", data=top3,estimator=len)\n",
    "plot4.set_yscale('log')\n",
    "plt.title(\"Number of Investments in the top 3 sectors of the top 3 countries\",fontsize=20)\n",
    "plt.show()"
   ]
  },
  {
   "cell_type": "markdown",
   "metadata": {},
   "source": [
    "### **--------------------------------------------------END--------------------------------------------------**"
   ]
  }
 ],
 "metadata": {
  "kernelspec": {
   "display_name": "Python 3",
   "language": "python",
   "name": "python3"
  },
  "language_info": {
   "codemirror_mode": {
    "name": "ipython",
    "version": 3
   },
   "file_extension": ".py",
   "mimetype": "text/x-python",
   "name": "python",
   "nbconvert_exporter": "python",
   "pygments_lexer": "ipython3",
   "version": "3.8.3"
  }
 },
 "nbformat": 4,
 "nbformat_minor": 4
}
